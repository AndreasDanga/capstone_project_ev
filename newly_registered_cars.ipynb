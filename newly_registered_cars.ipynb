{
 "cells": [
  {
   "attachments": {},
   "cell_type": "markdown",
   "metadata": {},
   "source": [
    "## Data Cleaning"
   ]
  },
  {
   "attachments": {},
   "cell_type": "markdown",
   "metadata": {},
   "source": [
    "### Approach\n",
    "\n",
    "- Importing and inspecting the data sets.\n",
    "- After that cleaning the data accordingly.\n",
    "- Creating Meta-Data for all the data sets."
   ]
  },
  {
   "attachments": {},
   "cell_type": "markdown",
   "metadata": {},
   "source": [
    "#### Importing Libraries"
   ]
  },
  {
   "cell_type": "code",
   "execution_count": 2,
   "metadata": {},
   "outputs": [],
   "source": [
    "# Importing python libraries\n",
    "import pandas as pd\n",
    "import numpy as np\n",
    "import matplotlib.pyplot as plt\n",
    "import zipfile\n",
    "import seaborn as sns\n",
    "import requests"
   ]
  },
  {
   "cell_type": "code",
   "execution_count": 3,
   "metadata": {},
   "outputs": [
    {
     "name": "stdout",
     "output_type": "stream",
     "text": [
      "/Users/andreasdangaris/NeueFische/capstone_project_ev/capstone_project_ev\n"
     ]
    }
   ],
   "source": [
    "# Checking the directory currently in\n",
    "import os\n",
    "print(os.getcwd())\n"
   ]
  },
  {
   "cell_type": "code",
   "execution_count": 4,
   "metadata": {},
   "outputs": [],
   "source": [
    "# Creating dataframe from xlsx file in repo\n",
    "df_registered_cars = pd.read_excel('newly_registered_cars_08_23.xlsx', sheet_name='08_23')"
   ]
  },
  {
   "cell_type": "code",
   "execution_count": 5,
   "metadata": {},
   "outputs": [
    {
     "data": {
      "text/plain": [
       "pandas.core.frame.DataFrame"
      ]
     },
     "execution_count": 5,
     "metadata": {},
     "output_type": "execute_result"
    }
   ],
   "source": [
    "# checking and confirming the status of the df \n",
    "type(df_registered_cars)"
   ]
  },
  {
   "cell_type": "code",
   "execution_count": 6,
   "metadata": {},
   "outputs": [
    {
     "data": {
      "text/html": [
       "<div>\n",
       "<style scoped>\n",
       "    .dataframe tbody tr th:only-of-type {\n",
       "        vertical-align: middle;\n",
       "    }\n",
       "\n",
       "    .dataframe tbody tr th {\n",
       "        vertical-align: top;\n",
       "    }\n",
       "\n",
       "    .dataframe thead th {\n",
       "        text-align: right;\n",
       "    }\n",
       "</style>\n",
       "<table border=\"1\" class=\"dataframe\">\n",
       "  <thead>\n",
       "    <tr style=\"text-align: right;\">\n",
       "      <th></th>\n",
       "      <th>Land</th>\n",
       "      <th>Benzin</th>\n",
       "      <th>Diesel</th>\n",
       "      <th>Flüssiggas\\n(LPG)\\n(einschließlich\\nbivalent)</th>\n",
       "      <th>Erdgas\\n(CNG)\\n(einschließlich\\nbivalent)</th>\n",
       "      <th>Elektro\\n(BEV)</th>\n",
       "      <th>Hybrid\\ninsgesamt</th>\n",
       "      <th>darunter\\nPlug-in</th>\n",
       "      <th>Zum Vergleich:\\nInsgesamt</th>\n",
       "      <th>Anzahl insgesamt Brennstoffzelle (Wasserstoff)</th>\n",
       "      <th>Total Gas</th>\n",
       "      <th>Jahr</th>\n",
       "      <th>Month</th>\n",
       "      <th>andere Hybrid</th>\n",
       "    </tr>\n",
       "  </thead>\n",
       "  <tbody>\n",
       "    <tr>\n",
       "      <th>0</th>\n",
       "      <td>Baden-Württemberg</td>\n",
       "      <td>NaN</td>\n",
       "      <td>NaN</td>\n",
       "      <td>NaN</td>\n",
       "      <td>NaN</td>\n",
       "      <td>8706</td>\n",
       "      <td>NaN</td>\n",
       "      <td>4287.0</td>\n",
       "      <td>56104</td>\n",
       "      <td>7</td>\n",
       "      <td>265.0</td>\n",
       "      <td>2023</td>\n",
       "      <td>Jan-Feb</td>\n",
       "      <td>14108.0</td>\n",
       "    </tr>\n",
       "    <tr>\n",
       "      <th>1</th>\n",
       "      <td>Bayern</td>\n",
       "      <td>NaN</td>\n",
       "      <td>NaN</td>\n",
       "      <td>NaN</td>\n",
       "      <td>NaN</td>\n",
       "      <td>9558</td>\n",
       "      <td>NaN</td>\n",
       "      <td>3629.0</td>\n",
       "      <td>81058</td>\n",
       "      <td>8</td>\n",
       "      <td>325.0</td>\n",
       "      <td>2023</td>\n",
       "      <td>Jan-Feb</td>\n",
       "      <td>19325.0</td>\n",
       "    </tr>\n",
       "  </tbody>\n",
       "</table>\n",
       "</div>"
      ],
      "text/plain": [
       "                Land  Benzin  Diesel  \\\n",
       "0  Baden-Württemberg     NaN     NaN   \n",
       "1             Bayern     NaN     NaN   \n",
       "\n",
       "   Flüssiggas\\n(LPG)\\n(einschließlich\\nbivalent)  \\\n",
       "0                                            NaN   \n",
       "1                                            NaN   \n",
       "\n",
       "   Erdgas\\n(CNG)\\n(einschließlich\\nbivalent) Elektro\\n(BEV)  \\\n",
       "0                                        NaN           8706   \n",
       "1                                        NaN           9558   \n",
       "\n",
       "   Hybrid\\ninsgesamt  darunter\\nPlug-in  Zum Vergleich:\\nInsgesamt  \\\n",
       "0                NaN             4287.0                      56104   \n",
       "1                NaN             3629.0                      81058   \n",
       "\n",
       "  Anzahl insgesamt Brennstoffzelle (Wasserstoff)  Total Gas  Jahr    Month  \\\n",
       "0                                              7      265.0  2023  Jan-Feb   \n",
       "1                                              8      325.0  2023  Jan-Feb   \n",
       "\n",
       "   andere Hybrid  \n",
       "0        14108.0  \n",
       "1        19325.0  "
      ]
     },
     "execution_count": 6,
     "metadata": {},
     "output_type": "execute_result"
    }
   ],
   "source": [
    "# calling the dataframe to check on it's content\n",
    "df_registered_cars.head(2)"
   ]
  },
  {
   "attachments": {},
   "cell_type": "markdown",
   "metadata": {},
   "source": [
    "### Simple EDA \"charging stations\""
   ]
  },
  {
   "cell_type": "code",
   "execution_count": 7,
   "metadata": {},
   "outputs": [
    {
     "data": {
      "text/plain": [
       "(256, 14)"
      ]
     },
     "execution_count": 7,
     "metadata": {},
     "output_type": "execute_result"
    }
   ],
   "source": [
    "# Checking rows and columns\n",
    "df_registered_cars.shape"
   ]
  },
  {
   "cell_type": "code",
   "execution_count": 8,
   "metadata": {},
   "outputs": [
    {
     "name": "stdout",
     "output_type": "stream",
     "text": [
      "<class 'pandas.core.frame.DataFrame'>\n",
      "RangeIndex: 256 entries, 0 to 255\n",
      "Data columns (total 14 columns):\n",
      " #   Column                                          Non-Null Count  Dtype  \n",
      "---  ------                                          --------------  -----  \n",
      " 0   Land                                            256 non-null    object \n",
      " 1   Benzin                                          224 non-null    float64\n",
      " 2   Diesel                                          224 non-null    float64\n",
      " 3   Flüssiggas\n",
      "(LPG)\n",
      "(einschließlich\n",
      "bivalent)      224 non-null    float64\n",
      " 4   Erdgas\n",
      "(CNG)\n",
      "(einschließlich\n",
      "bivalent)          224 non-null    float64\n",
      " 5   Elektro\n",
      "(BEV)                                   256 non-null    object \n",
      " 6   Hybrid\n",
      "insgesamt                                224 non-null    float64\n",
      " 7   darunter\n",
      "Plug-in                                112 non-null    float64\n",
      " 8   Zum Vergleich:\n",
      "Insgesamt                        256 non-null    int64  \n",
      " 9   Anzahl insgesamt Brennstoffzelle (Wasserstoff)  48 non-null     object \n",
      " 10  Total Gas                                       48 non-null     float64\n",
      " 11  Jahr                                            256 non-null    int64  \n",
      " 12  Month                                           16 non-null     object \n",
      " 13  andere Hybrid                                   32 non-null     float64\n",
      "dtypes: float64(8), int64(2), object(4)\n",
      "memory usage: 28.1+ KB\n"
     ]
    }
   ],
   "source": [
    "# Checking for null values and data types\n",
    "df_registered_cars.info()"
   ]
  },
  {
   "cell_type": "code",
   "execution_count": 9,
   "metadata": {},
   "outputs": [
    {
     "data": {
      "text/html": [
       "<div>\n",
       "<style scoped>\n",
       "    .dataframe tbody tr th:only-of-type {\n",
       "        vertical-align: middle;\n",
       "    }\n",
       "\n",
       "    .dataframe tbody tr th {\n",
       "        vertical-align: top;\n",
       "    }\n",
       "\n",
       "    .dataframe thead th {\n",
       "        text-align: right;\n",
       "    }\n",
       "</style>\n",
       "<table border=\"1\" class=\"dataframe\">\n",
       "  <thead>\n",
       "    <tr style=\"text-align: right;\">\n",
       "      <th></th>\n",
       "      <th>Benzin</th>\n",
       "      <th>Diesel</th>\n",
       "      <th>Flüssiggas\\n(LPG)\\n(einschließlich\\nbivalent)</th>\n",
       "      <th>Erdgas\\n(CNG)\\n(einschließlich\\nbivalent)</th>\n",
       "      <th>Hybrid\\ninsgesamt</th>\n",
       "      <th>darunter\\nPlug-in</th>\n",
       "      <th>Zum Vergleich:\\nInsgesamt</th>\n",
       "      <th>Total Gas</th>\n",
       "      <th>Jahr</th>\n",
       "      <th>andere Hybrid</th>\n",
       "    </tr>\n",
       "  </thead>\n",
       "  <tbody>\n",
       "    <tr>\n",
       "      <th>count</th>\n",
       "      <td>224.000000</td>\n",
       "      <td>224.000000</td>\n",
       "      <td>224.000000</td>\n",
       "      <td>224.000000</td>\n",
       "      <td>224.000000</td>\n",
       "      <td>112.000000</td>\n",
       "      <td>256.000000</td>\n",
       "      <td>48.000000</td>\n",
       "      <td>256.000000</td>\n",
       "      <td>32.000000</td>\n",
       "    </tr>\n",
       "    <tr>\n",
       "      <th>mean</th>\n",
       "      <td>107921.897321</td>\n",
       "      <td>78592.285714</td>\n",
       "      <td>459.468750</td>\n",
       "      <td>429.486607</td>\n",
       "      <td>8617.808036</td>\n",
       "      <td>9054.080357</td>\n",
       "      <td>186189.382812</td>\n",
       "      <td>687.395833</td>\n",
       "      <td>2015.500000</td>\n",
       "      <td>17311.312500</td>\n",
       "    </tr>\n",
       "    <tr>\n",
       "      <th>std</th>\n",
       "      <td>109916.974184</td>\n",
       "      <td>87790.281046</td>\n",
       "      <td>640.838275</td>\n",
       "      <td>504.176218</td>\n",
       "      <td>22744.882688</td>\n",
       "      <td>16676.532674</td>\n",
       "      <td>200125.489492</td>\n",
       "      <td>919.443929</td>\n",
       "      <td>4.618802</td>\n",
       "      <td>26731.924427</td>\n",
       "    </tr>\n",
       "    <tr>\n",
       "      <th>min</th>\n",
       "      <td>5020.000000</td>\n",
       "      <td>3625.000000</td>\n",
       "      <td>20.000000</td>\n",
       "      <td>10.000000</td>\n",
       "      <td>83.000000</td>\n",
       "      <td>122.000000</td>\n",
       "      <td>2790.000000</td>\n",
       "      <td>15.000000</td>\n",
       "      <td>2008.000000</td>\n",
       "      <td>796.000000</td>\n",
       "    </tr>\n",
       "    <tr>\n",
       "      <th>25%</th>\n",
       "      <td>35264.250000</td>\n",
       "      <td>17724.750000</td>\n",
       "      <td>88.000000</td>\n",
       "      <td>111.500000</td>\n",
       "      <td>482.000000</td>\n",
       "      <td>703.000000</td>\n",
       "      <td>53837.000000</td>\n",
       "      <td>131.000000</td>\n",
       "      <td>2011.750000</td>\n",
       "      <td>3091.250000</td>\n",
       "    </tr>\n",
       "    <tr>\n",
       "      <th>50%</th>\n",
       "      <td>54902.000000</td>\n",
       "      <td>34090.500000</td>\n",
       "      <td>220.500000</td>\n",
       "      <td>205.500000</td>\n",
       "      <td>1422.500000</td>\n",
       "      <td>2934.000000</td>\n",
       "      <td>86148.500000</td>\n",
       "      <td>325.500000</td>\n",
       "      <td>2015.500000</td>\n",
       "      <td>7732.500000</td>\n",
       "    </tr>\n",
       "    <tr>\n",
       "      <th>75%</th>\n",
       "      <td>170532.750000</td>\n",
       "      <td>132045.000000</td>\n",
       "      <td>535.500000</td>\n",
       "      <td>600.250000</td>\n",
       "      <td>5384.500000</td>\n",
       "      <td>8057.500000</td>\n",
       "      <td>315525.500000</td>\n",
       "      <td>743.750000</td>\n",
       "      <td>2019.250000</td>\n",
       "      <td>16814.750000</td>\n",
       "    </tr>\n",
       "    <tr>\n",
       "      <th>max</th>\n",
       "      <td>521661.000000</td>\n",
       "      <td>339338.000000</td>\n",
       "      <td>4037.000000</td>\n",
       "      <td>2845.000000</td>\n",
       "      <td>171750.000000</td>\n",
       "      <td>84491.000000</td>\n",
       "      <td>745980.000000</td>\n",
       "      <td>4121.000000</td>\n",
       "      <td>2023.000000</td>\n",
       "      <td>114141.000000</td>\n",
       "    </tr>\n",
       "  </tbody>\n",
       "</table>\n",
       "</div>"
      ],
      "text/plain": [
       "              Benzin         Diesel  \\\n",
       "count     224.000000     224.000000   \n",
       "mean   107921.897321   78592.285714   \n",
       "std    109916.974184   87790.281046   \n",
       "min      5020.000000    3625.000000   \n",
       "25%     35264.250000   17724.750000   \n",
       "50%     54902.000000   34090.500000   \n",
       "75%    170532.750000  132045.000000   \n",
       "max    521661.000000  339338.000000   \n",
       "\n",
       "       Flüssiggas\\n(LPG)\\n(einschließlich\\nbivalent)  \\\n",
       "count                                     224.000000   \n",
       "mean                                      459.468750   \n",
       "std                                       640.838275   \n",
       "min                                        20.000000   \n",
       "25%                                        88.000000   \n",
       "50%                                       220.500000   \n",
       "75%                                       535.500000   \n",
       "max                                      4037.000000   \n",
       "\n",
       "       Erdgas\\n(CNG)\\n(einschließlich\\nbivalent)  Hybrid\\ninsgesamt  \\\n",
       "count                                 224.000000         224.000000   \n",
       "mean                                  429.486607        8617.808036   \n",
       "std                                   504.176218       22744.882688   \n",
       "min                                    10.000000          83.000000   \n",
       "25%                                   111.500000         482.000000   \n",
       "50%                                   205.500000        1422.500000   \n",
       "75%                                   600.250000        5384.500000   \n",
       "max                                  2845.000000      171750.000000   \n",
       "\n",
       "       darunter\\nPlug-in  Zum Vergleich:\\nInsgesamt    Total Gas         Jahr  \\\n",
       "count         112.000000                 256.000000    48.000000   256.000000   \n",
       "mean         9054.080357              186189.382812   687.395833  2015.500000   \n",
       "std         16676.532674              200125.489492   919.443929     4.618802   \n",
       "min           122.000000                2790.000000    15.000000  2008.000000   \n",
       "25%           703.000000               53837.000000   131.000000  2011.750000   \n",
       "50%          2934.000000               86148.500000   325.500000  2015.500000   \n",
       "75%          8057.500000              315525.500000   743.750000  2019.250000   \n",
       "max         84491.000000              745980.000000  4121.000000  2023.000000   \n",
       "\n",
       "       andere Hybrid  \n",
       "count      32.000000  \n",
       "mean    17311.312500  \n",
       "std     26731.924427  \n",
       "min       796.000000  \n",
       "25%      3091.250000  \n",
       "50%      7732.500000  \n",
       "75%     16814.750000  \n",
       "max    114141.000000  "
      ]
     },
     "execution_count": 9,
     "metadata": {},
     "output_type": "execute_result"
    }
   ],
   "source": [
    "# Checking the dataframes central tendencies\n",
    "df_registered_cars.describe()"
   ]
  },
  {
   "cell_type": "code",
   "execution_count": 10,
   "metadata": {},
   "outputs": [
    {
     "data": {
      "text/plain": [
       "Index(['Land', 'Benzin', 'Diesel',\n",
       "       'Flüssiggas\\n(LPG)\\n(einschließlich\\nbivalent)',\n",
       "       'Erdgas\\n(CNG)\\n(einschließlich\\nbivalent)', 'Elektro\\n(BEV)',\n",
       "       'Hybrid\\ninsgesamt', 'darunter\\nPlug-in', 'Zum Vergleich:\\nInsgesamt',\n",
       "       'Anzahl insgesamt Brennstoffzelle (Wasserstoff)', 'Total Gas', 'Jahr',\n",
       "       'Month', 'andere Hybrid'],\n",
       "      dtype='object')"
      ]
     },
     "execution_count": 10,
     "metadata": {},
     "output_type": "execute_result"
    }
   ],
   "source": [
    "# Checking for the columns \n",
    "df_registered_cars.columns"
   ]
  },
  {
   "cell_type": "code",
   "execution_count": 11,
   "metadata": {},
   "outputs": [],
   "source": [
    "# Translating column names from German to English\n",
    "# Changing the names in a pythonic way. lower case and replacing ' ' with '_'\n",
    "df_registered_cars.rename(columns={'Land': 'Country',\n",
    "                                    'Benzin': 'Gasoline',\n",
    "                                    'Diesel': 'Diesel',\n",
    "                                    'Flüssiggas\\n(LPG)\\n(einschließlich\\nbivalent)': 'Liquefied petroleum gas (LPG)',\n",
    "                                    'Erdgas\\n(CNG)\\n(einschließlich\\nbivalent)': 'Compressed natural gas (CNG)',\n",
    "                                    'Elektro\\n(BEV)': 'Battery-electric vehicle (BEV)',\n",
    "                                    'Hybrid\\ninsgesamt': 'Total hybrid',\n",
    "                                    'darunter\\nPlug-in': 'Plug-in',\n",
    "                                    'Zum Vergleich:\\nInsgesamt': 'Total',\n",
    "                                    'Anzahl insgesamt Brennstoffzelle (Wasserstoff)': 'Total fuel cell (hydrogen)',\n",
    "                                    'Total Gas': 'Total gas',\n",
    "                                    'Jahr': 'Year',\n",
    "                                    'Month': 'Month',\n",
    "                                    'andere Hybrid': 'Other hybrid'}, inplace=True)\n"
   ]
  },
  {
   "cell_type": "code",
   "execution_count": 12,
   "metadata": {},
   "outputs": [],
   "source": [
    "# Convert column names to lowercase and replace spaces with underscores\n",
    "df_registered_cars.columns = df_registered_cars.columns.str.lower().str.replace(' ', '_')"
   ]
  },
  {
   "cell_type": "code",
   "execution_count": 13,
   "metadata": {},
   "outputs": [
    {
     "data": {
      "text/plain": [
       "Index(['country', 'gasoline', 'diesel', 'liquefied_petroleum_gas_(lpg)',\n",
       "       'compressed_natural_gas_(cng)', 'battery-electric_vehicle_(bev)',\n",
       "       'total_hybrid', 'plug-in', 'total', 'total_fuel_cell_(hydrogen)',\n",
       "       'total_gas', 'year', 'month', 'other_hybrid'],\n",
       "      dtype='object')"
      ]
     },
     "execution_count": 13,
     "metadata": {},
     "output_type": "execute_result"
    }
   ],
   "source": [
    "# Checking the new column names\n",
    "df_registered_cars.columns"
   ]
  },
  {
   "cell_type": "code",
   "execution_count": 14,
   "metadata": {},
   "outputs": [],
   "source": [
    "# Changing country column to federal state\n",
    "df_registered_cars.rename(columns={'country': 'federal_state', 'battery-electric_vehicle_(bev)': 'battery_electric_vehicle', 'plug-in': 'hybrid_electric'}, inplace=True)"
   ]
  },
  {
   "cell_type": "code",
   "execution_count": 15,
   "metadata": {},
   "outputs": [],
   "source": [
    "# Dropping the unnecessary columns\n",
    "df_registered_cars.drop(['gasoline', 'diesel', 'liquefied_petroleum_gas_(lpg)', 'compressed_natural_gas_(cng)', 'month'], axis=1, inplace=True)"
   ]
  },
  {
   "cell_type": "code",
   "execution_count": 16,
   "metadata": {},
   "outputs": [
    {
     "name": "stdout",
     "output_type": "stream",
     "text": [
      "<class 'pandas.core.frame.DataFrame'>\n",
      "RangeIndex: 256 entries, 0 to 255\n",
      "Data columns (total 9 columns):\n",
      " #   Column                      Non-Null Count  Dtype  \n",
      "---  ------                      --------------  -----  \n",
      " 0   federal_state               256 non-null    object \n",
      " 1   battery_electric_vehicle    256 non-null    object \n",
      " 2   total_hybrid                224 non-null    float64\n",
      " 3   hybrid_electric             112 non-null    float64\n",
      " 4   total                       256 non-null    int64  \n",
      " 5   total_fuel_cell_(hydrogen)  48 non-null     object \n",
      " 6   total_gas                   48 non-null     float64\n",
      " 7   year                        256 non-null    int64  \n",
      " 8   other_hybrid                32 non-null     float64\n",
      "dtypes: float64(4), int64(2), object(3)\n",
      "memory usage: 18.1+ KB\n"
     ]
    }
   ],
   "source": [
    "df_registered_cars.info()"
   ]
  },
  {
   "attachments": {},
   "cell_type": "markdown",
   "metadata": {},
   "source": [
    "#### Meta Data\n",
    "\n",
    "|Variable |Definition  | Key|\n",
    "|--- | --- | ---|\n",
    "|**federal_state**| Federal state of Germany ||\n",
    "|**battery_electric_vehicle**| Count of pure electric cars ||\n",
    "|**total_hybrid**| Count of all hybrids (plug-in hybrids included) ||\n",
    "|**hybrid_electric**| Count of all plug-in hybrids ||\n",
    "|**total**| Total amount  ||\n",
    "|**total_fuel_cell_(hydrogen)**| Count of hydrogen cars ||\n",
    "|**total_gas**| Count of CNG and LPG cars ||\n",
    "|**year**| Year of observation (2008-2023) ||\n",
    "|**other_hybrid**| Count of all hybrids (plug-in hybrids excluded) ||"
   ]
  },
  {
   "attachments": {},
   "cell_type": "markdown",
   "metadata": {},
   "source": [
    "#### Detailed EDA"
   ]
  },
  {
   "cell_type": "code",
   "execution_count": 17,
   "metadata": {},
   "outputs": [
    {
     "name": "stdout",
     "output_type": "stream",
     "text": [
      "federal_state                   0\n",
      "battery_electric_vehicle        0\n",
      "total_hybrid                   32\n",
      "hybrid_electric               144\n",
      "total                           0\n",
      "total_fuel_cell_(hydrogen)    208\n",
      "total_gas                     208\n",
      "year                            0\n",
      "other_hybrid                  224\n",
      "dtype: int64\n"
     ]
    }
   ],
   "source": [
    "# Check for missing values\n",
    "print(df_registered_cars.isnull().sum())"
   ]
  },
  {
   "cell_type": "code",
   "execution_count": 18,
   "metadata": {},
   "outputs": [
    {
     "data": {
      "text/html": [
       "<div>\n",
       "<style scoped>\n",
       "    .dataframe tbody tr th:only-of-type {\n",
       "        vertical-align: middle;\n",
       "    }\n",
       "\n",
       "    .dataframe tbody tr th {\n",
       "        vertical-align: top;\n",
       "    }\n",
       "\n",
       "    .dataframe thead th {\n",
       "        text-align: right;\n",
       "    }\n",
       "</style>\n",
       "<table border=\"1\" class=\"dataframe\">\n",
       "  <thead>\n",
       "    <tr style=\"text-align: right;\">\n",
       "      <th></th>\n",
       "      <th>federal_state</th>\n",
       "      <th>battery_electric_vehicle</th>\n",
       "      <th>total_hybrid</th>\n",
       "      <th>hybrid_electric</th>\n",
       "      <th>total</th>\n",
       "      <th>total_fuel_cell_(hydrogen)</th>\n",
       "      <th>total_gas</th>\n",
       "      <th>year</th>\n",
       "      <th>other_hybrid</th>\n",
       "    </tr>\n",
       "  </thead>\n",
       "  <tbody>\n",
       "    <tr>\n",
       "      <th>254</th>\n",
       "      <td>Schleswig-Holstein</td>\n",
       "      <td>2</td>\n",
       "      <td>206.0</td>\n",
       "      <td>NaN</td>\n",
       "      <td>79943</td>\n",
       "      <td>NaN</td>\n",
       "      <td>NaN</td>\n",
       "      <td>2008</td>\n",
       "      <td>NaN</td>\n",
       "    </tr>\n",
       "    <tr>\n",
       "      <th>255</th>\n",
       "      <td>Thüringen</td>\n",
       "      <td>-</td>\n",
       "      <td>140.0</td>\n",
       "      <td>NaN</td>\n",
       "      <td>66687</td>\n",
       "      <td>NaN</td>\n",
       "      <td>NaN</td>\n",
       "      <td>2008</td>\n",
       "      <td>NaN</td>\n",
       "    </tr>\n",
       "  </tbody>\n",
       "</table>\n",
       "</div>"
      ],
      "text/plain": [
       "          federal_state battery_electric_vehicle  total_hybrid  \\\n",
       "254  Schleswig-Holstein                        2         206.0   \n",
       "255           Thüringen                        -         140.0   \n",
       "\n",
       "     hybrid_electric  total total_fuel_cell_(hydrogen)  total_gas  year  \\\n",
       "254              NaN  79943                        NaN        NaN  2008   \n",
       "255              NaN  66687                        NaN        NaN  2008   \n",
       "\n",
       "     other_hybrid  \n",
       "254           NaN  \n",
       "255           NaN  "
      ]
     },
     "execution_count": 18,
     "metadata": {},
     "output_type": "execute_result"
    }
   ],
   "source": [
    "# Getting rid of leading or trailing whitespaces\n",
    "df_registered_cars = df_registered_cars.applymap(lambda x: x.strip() if isinstance(x, str) else x)\n",
    "df_registered_cars.tail(2)"
   ]
  },
  {
   "cell_type": "code",
   "execution_count": 19,
   "metadata": {},
   "outputs": [
    {
     "name": "stdout",
     "output_type": "stream",
     "text": [
      "Number of duplicate entries:  0\n",
      "0      False\n",
      "1      False\n",
      "2      False\n",
      "3      False\n",
      "4      False\n",
      "       ...  \n",
      "251    False\n",
      "252    False\n",
      "253    False\n",
      "254    False\n",
      "255    False\n",
      "Length: 256, dtype: bool\n"
     ]
    }
   ],
   "source": [
    "# Checking for duplicates\n",
    "duplicates = df_registered_cars.duplicated()\n",
    "print('Number of duplicate entries: ', duplicates.sum())\n",
    "print(duplicates)"
   ]
  },
  {
   "cell_type": "code",
   "execution_count": 20,
   "metadata": {},
   "outputs": [
    {
     "data": {
      "text/html": [
       "<div>\n",
       "<style scoped>\n",
       "    .dataframe tbody tr th:only-of-type {\n",
       "        vertical-align: middle;\n",
       "    }\n",
       "\n",
       "    .dataframe tbody tr th {\n",
       "        vertical-align: top;\n",
       "    }\n",
       "\n",
       "    .dataframe thead th {\n",
       "        text-align: right;\n",
       "    }\n",
       "</style>\n",
       "<table border=\"1\" class=\"dataframe\">\n",
       "  <thead>\n",
       "    <tr style=\"text-align: right;\">\n",
       "      <th></th>\n",
       "      <th>federal_state</th>\n",
       "      <th>battery_electric_vehicle</th>\n",
       "      <th>total_hybrid</th>\n",
       "      <th>hybrid_electric</th>\n",
       "      <th>total</th>\n",
       "      <th>total_fuel_cell_(hydrogen)</th>\n",
       "      <th>total_gas</th>\n",
       "      <th>year</th>\n",
       "      <th>other_hybrid</th>\n",
       "    </tr>\n",
       "  </thead>\n",
       "  <tbody>\n",
       "    <tr>\n",
       "      <th>253</th>\n",
       "      <td>Sachsen-Anhalt</td>\n",
       "      <td>-</td>\n",
       "      <td>143.0</td>\n",
       "      <td>NaN</td>\n",
       "      <td>59576</td>\n",
       "      <td>NaN</td>\n",
       "      <td>NaN</td>\n",
       "      <td>2008</td>\n",
       "      <td>NaN</td>\n",
       "    </tr>\n",
       "    <tr>\n",
       "      <th>254</th>\n",
       "      <td>Schleswig-Holstein</td>\n",
       "      <td>2</td>\n",
       "      <td>206.0</td>\n",
       "      <td>NaN</td>\n",
       "      <td>79943</td>\n",
       "      <td>NaN</td>\n",
       "      <td>NaN</td>\n",
       "      <td>2008</td>\n",
       "      <td>NaN</td>\n",
       "    </tr>\n",
       "    <tr>\n",
       "      <th>255</th>\n",
       "      <td>Thüringen</td>\n",
       "      <td>-</td>\n",
       "      <td>140.0</td>\n",
       "      <td>NaN</td>\n",
       "      <td>66687</td>\n",
       "      <td>NaN</td>\n",
       "      <td>NaN</td>\n",
       "      <td>2008</td>\n",
       "      <td>NaN</td>\n",
       "    </tr>\n",
       "  </tbody>\n",
       "</table>\n",
       "</div>"
      ],
      "text/plain": [
       "          federal_state battery_electric_vehicle  total_hybrid  \\\n",
       "253      Sachsen-Anhalt                        -         143.0   \n",
       "254  Schleswig-Holstein                        2         206.0   \n",
       "255           Thüringen                        -         140.0   \n",
       "\n",
       "     hybrid_electric  total total_fuel_cell_(hydrogen)  total_gas  year  \\\n",
       "253              NaN  59576                        NaN        NaN  2008   \n",
       "254              NaN  79943                        NaN        NaN  2008   \n",
       "255              NaN  66687                        NaN        NaN  2008   \n",
       "\n",
       "     other_hybrid  \n",
       "253           NaN  \n",
       "254           NaN  \n",
       "255           NaN  "
      ]
     },
     "execution_count": 20,
     "metadata": {},
     "output_type": "execute_result"
    }
   ],
   "source": [
    "# Calling dataframe after dealing with duplicates\n",
    "df_registered_cars.tail(3)"
   ]
  },
  {
   "cell_type": "code",
   "execution_count": 25,
   "metadata": {},
   "outputs": [],
   "source": [
    "# Checking if any column starts with a space\n",
    "for col in df_registered_cars.columns:\n",
    "    if df_registered_cars[col].dtype == 'O': # check if column has object dtype (i.e. contains strings)\n",
    "        if df_registered_cars[col].str.startswith(' ').any(): # check if any string in column starts with a space\n",
    "            print(f\"Column {col} contains values starting with a space.\")\n"
   ]
  },
  {
   "cell_type": "code",
   "execution_count": 26,
   "metadata": {},
   "outputs": [
    {
     "name": "stdout",
     "output_type": "stream",
     "text": [
      "<class 'pandas.core.frame.DataFrame'>\n",
      "RangeIndex: 256 entries, 0 to 255\n",
      "Data columns (total 9 columns):\n",
      " #   Column                      Non-Null Count  Dtype  \n",
      "---  ------                      --------------  -----  \n",
      " 0   federal_state               256 non-null    object \n",
      " 1   battery_electric_vehicle    256 non-null    object \n",
      " 2   total_hybrid                224 non-null    float64\n",
      " 3   hybrid_electric             112 non-null    float64\n",
      " 4   total                       256 non-null    int64  \n",
      " 5   total_fuel_cell_(hydrogen)  48 non-null     object \n",
      " 6   total_gas                   48 non-null     float64\n",
      " 7   year                        256 non-null    int64  \n",
      " 8   other_hybrid                32 non-null     float64\n",
      "dtypes: float64(4), int64(2), object(3)\n",
      "memory usage: 18.1+ KB\n"
     ]
    }
   ],
   "source": [
    "df_registered_cars.info()"
   ]
  }
 ],
 "metadata": {
  "kernelspec": {
   "display_name": "nf_base",
   "language": "python",
   "name": "python3"
  },
  "language_info": {
   "codemirror_mode": {
    "name": "ipython",
    "version": 3
   },
   "file_extension": ".py",
   "mimetype": "text/x-python",
   "name": "python",
   "nbconvert_exporter": "python",
   "pygments_lexer": "ipython3",
   "version": "3.9.16"
  },
  "orig_nbformat": 4
 },
 "nbformat": 4,
 "nbformat_minor": 2
}
