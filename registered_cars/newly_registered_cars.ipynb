{
 "cells": [
  {
   "attachments": {},
   "cell_type": "markdown",
   "metadata": {},
   "source": [
    "## Data Cleaning"
   ]
  },
  {
   "attachments": {},
   "cell_type": "markdown",
   "metadata": {},
   "source": [
    "### Approach\n",
    "\n",
    "- Importing and inspecting the data sets.\n",
    "- After that -> cleaning the data accordingly.\n",
    "- Creating Meta-Data for all the data sets."
   ]
  },
  {
   "attachments": {},
   "cell_type": "markdown",
   "metadata": {},
   "source": [
    "#### Importing Libraries"
   ]
  },
  {
   "cell_type": "code",
   "execution_count": 2,
   "metadata": {},
   "outputs": [],
   "source": [
    "# Importing python libraries\n",
    "import pandas as pd\n",
    "import numpy as np\n",
    "import matplotlib.pyplot as plt\n",
    "import zipfile\n",
    "import seaborn as sns\n",
    "import requests\n",
    "import sql_functions as sql"
   ]
  },
  {
   "cell_type": "code",
   "execution_count": 3,
   "metadata": {},
   "outputs": [
    {
     "name": "stdout",
     "output_type": "stream",
     "text": [
      "/Users/andreasdangaris/NeueFische/capstone_project_ev/capstone_project_ev\n"
     ]
    }
   ],
   "source": [
    "# Checking the directory currently in\n",
    "import os\n",
    "print(os.getcwd())\n"
   ]
  },
  {
   "cell_type": "code",
   "execution_count": 27,
   "metadata": {},
   "outputs": [],
   "source": [
    "# Displaying up to 100 columns\n",
    "pd.set_option('display.max_columns', 100)"
   ]
  },
  {
   "cell_type": "code",
   "execution_count": 29,
   "metadata": {},
   "outputs": [],
   "source": [
    "# Creating DataFrame from xlsx file in repo\n",
    "df_registered_cars = pd.read_excel('registration_08_23.xlsx')"
   ]
  },
  {
   "cell_type": "code",
   "execution_count": 30,
   "metadata": {},
   "outputs": [
    {
     "data": {
      "text/plain": [
       "pandas.core.frame.DataFrame"
      ]
     },
     "execution_count": 30,
     "metadata": {},
     "output_type": "execute_result"
    }
   ],
   "source": [
    "# checking and confirming the status of the df \n",
    "type(df_registered_cars)"
   ]
  },
  {
   "cell_type": "code",
   "execution_count": 31,
   "metadata": {},
   "outputs": [
    {
     "data": {
      "text/html": [
       "<div>\n",
       "<style scoped>\n",
       "    .dataframe tbody tr th:only-of-type {\n",
       "        vertical-align: middle;\n",
       "    }\n",
       "\n",
       "    .dataframe tbody tr th {\n",
       "        vertical-align: top;\n",
       "    }\n",
       "\n",
       "    .dataframe thead th {\n",
       "        text-align: right;\n",
       "    }\n",
       "</style>\n",
       "<table border=\"1\" class=\"dataframe\">\n",
       "  <thead>\n",
       "    <tr style=\"text-align: right;\">\n",
       "      <th></th>\n",
       "      <th>Land</th>\n",
       "      <th>Benzin</th>\n",
       "      <th>Diesel</th>\n",
       "      <th>Flüssiggas\\n(LPG)\\n(einschließlich\\nbivalent)</th>\n",
       "      <th>Erdgas\\n(CNG)\\n(einschließlich\\nbivalent)</th>\n",
       "      <th>Elektro\\n(BEV)</th>\n",
       "      <th>Hybrid\\ninsgesamt</th>\n",
       "      <th>darunter\\nPlug-in</th>\n",
       "      <th>Zum Vergleich:\\nInsgesamt</th>\n",
       "      <th>Anzahl insgesamt Brennstoffzelle (Wasserstoff)</th>\n",
       "      <th>Total Gas</th>\n",
       "      <th>Jahr</th>\n",
       "      <th>Month</th>\n",
       "      <th>andere Hybrid</th>\n",
       "    </tr>\n",
       "  </thead>\n",
       "  <tbody>\n",
       "    <tr>\n",
       "      <th>0</th>\n",
       "      <td>Baden-Württemberg</td>\n",
       "      <td>NaN</td>\n",
       "      <td>NaN</td>\n",
       "      <td>NaN</td>\n",
       "      <td>NaN</td>\n",
       "      <td>8706</td>\n",
       "      <td>18395</td>\n",
       "      <td>4287.0</td>\n",
       "      <td>56104</td>\n",
       "      <td>7.0</td>\n",
       "      <td>265</td>\n",
       "      <td>2023</td>\n",
       "      <td>Jan-Feb</td>\n",
       "      <td>14108.0</td>\n",
       "    </tr>\n",
       "    <tr>\n",
       "      <th>1</th>\n",
       "      <td>Bayern</td>\n",
       "      <td>NaN</td>\n",
       "      <td>NaN</td>\n",
       "      <td>NaN</td>\n",
       "      <td>NaN</td>\n",
       "      <td>9558</td>\n",
       "      <td>22954</td>\n",
       "      <td>3629.0</td>\n",
       "      <td>81058</td>\n",
       "      <td>8.0</td>\n",
       "      <td>325</td>\n",
       "      <td>2023</td>\n",
       "      <td>Jan-Feb</td>\n",
       "      <td>19325.0</td>\n",
       "    </tr>\n",
       "  </tbody>\n",
       "</table>\n",
       "</div>"
      ],
      "text/plain": [
       "                Land  Benzin  Diesel  \\\n",
       "0  Baden-Württemberg     NaN     NaN   \n",
       "1             Bayern     NaN     NaN   \n",
       "\n",
       "   Flüssiggas\\n(LPG)\\n(einschließlich\\nbivalent)  \\\n",
       "0                                            NaN   \n",
       "1                                            NaN   \n",
       "\n",
       "   Erdgas\\n(CNG)\\n(einschließlich\\nbivalent) Elektro\\n(BEV)  \\\n",
       "0                                        NaN           8706   \n",
       "1                                        NaN           9558   \n",
       "\n",
       "   Hybrid\\ninsgesamt  darunter\\nPlug-in  Zum Vergleich:\\nInsgesamt  \\\n",
       "0              18395             4287.0                      56104   \n",
       "1              22954             3629.0                      81058   \n",
       "\n",
       "   Anzahl insgesamt Brennstoffzelle (Wasserstoff)  Total Gas  Jahr    Month  \\\n",
       "0                                             7.0        265  2023  Jan-Feb   \n",
       "1                                             8.0        325  2023  Jan-Feb   \n",
       "\n",
       "   andere Hybrid  \n",
       "0        14108.0  \n",
       "1        19325.0  "
      ]
     },
     "execution_count": 31,
     "metadata": {},
     "output_type": "execute_result"
    }
   ],
   "source": [
    "# calling the dataframe to check on it's content\n",
    "df_registered_cars.head(2)"
   ]
  },
  {
   "attachments": {},
   "cell_type": "markdown",
   "metadata": {},
   "source": [
    "### Simple EDA \"newly registered cars\""
   ]
  },
  {
   "cell_type": "code",
   "execution_count": 32,
   "metadata": {},
   "outputs": [
    {
     "data": {
      "text/plain": [
       "(256, 14)"
      ]
     },
     "execution_count": 32,
     "metadata": {},
     "output_type": "execute_result"
    }
   ],
   "source": [
    "# Checking rows and columns\n",
    "df_registered_cars.shape"
   ]
  },
  {
   "cell_type": "code",
   "execution_count": 33,
   "metadata": {},
   "outputs": [
    {
     "name": "stdout",
     "output_type": "stream",
     "text": [
      "<class 'pandas.core.frame.DataFrame'>\n",
      "RangeIndex: 256 entries, 0 to 255\n",
      "Data columns (total 14 columns):\n",
      " #   Column                                          Non-Null Count  Dtype  \n",
      "---  ------                                          --------------  -----  \n",
      " 0   Land                                            256 non-null    object \n",
      " 1   Benzin                                          224 non-null    float64\n",
      " 2   Diesel                                          224 non-null    float64\n",
      " 3   Flüssiggas\n",
      "(LPG)\n",
      "(einschließlich\n",
      "bivalent)      224 non-null    float64\n",
      " 4   Erdgas\n",
      "(CNG)\n",
      "(einschließlich\n",
      "bivalent)          224 non-null    float64\n",
      " 5   Elektro\n",
      "(BEV)                                   256 non-null    object \n",
      " 6   Hybrid\n",
      "insgesamt                                256 non-null    int64  \n",
      " 7   darunter\n",
      "Plug-in                                112 non-null    float64\n",
      " 8   Zum Vergleich:\n",
      "Insgesamt                        256 non-null    int64  \n",
      " 9   Anzahl insgesamt Brennstoffzelle (Wasserstoff)  39 non-null     float64\n",
      " 10  Total Gas                                       256 non-null    int64  \n",
      " 11  Jahr                                            256 non-null    int64  \n",
      " 12  Month                                           16 non-null     object \n",
      " 13  andere Hybrid                                   32 non-null     float64\n",
      "dtypes: float64(7), int64(4), object(3)\n",
      "memory usage: 28.1+ KB\n"
     ]
    }
   ],
   "source": [
    "# Checking for null values and data types\n",
    "df_registered_cars.info()"
   ]
  },
  {
   "cell_type": "code",
   "execution_count": 34,
   "metadata": {},
   "outputs": [
    {
     "data": {
      "text/html": [
       "<div>\n",
       "<style scoped>\n",
       "    .dataframe tbody tr th:only-of-type {\n",
       "        vertical-align: middle;\n",
       "    }\n",
       "\n",
       "    .dataframe tbody tr th {\n",
       "        vertical-align: top;\n",
       "    }\n",
       "\n",
       "    .dataframe thead th {\n",
       "        text-align: right;\n",
       "    }\n",
       "</style>\n",
       "<table border=\"1\" class=\"dataframe\">\n",
       "  <thead>\n",
       "    <tr style=\"text-align: right;\">\n",
       "      <th></th>\n",
       "      <th>Benzin</th>\n",
       "      <th>Diesel</th>\n",
       "      <th>Flüssiggas\\n(LPG)\\n(einschließlich\\nbivalent)</th>\n",
       "      <th>Erdgas\\n(CNG)\\n(einschließlich\\nbivalent)</th>\n",
       "      <th>Hybrid\\ninsgesamt</th>\n",
       "      <th>darunter\\nPlug-in</th>\n",
       "      <th>Zum Vergleich:\\nInsgesamt</th>\n",
       "      <th>Anzahl insgesamt Brennstoffzelle (Wasserstoff)</th>\n",
       "      <th>Total Gas</th>\n",
       "      <th>Jahr</th>\n",
       "      <th>andere Hybrid</th>\n",
       "    </tr>\n",
       "  </thead>\n",
       "  <tbody>\n",
       "    <tr>\n",
       "      <th>count</th>\n",
       "      <td>224.000000</td>\n",
       "      <td>224.000000</td>\n",
       "      <td>224.000000</td>\n",
       "      <td>224.000000</td>\n",
       "      <td>256.000000</td>\n",
       "      <td>112.000000</td>\n",
       "      <td>256.000000</td>\n",
       "      <td>39.000000</td>\n",
       "      <td>256.000000</td>\n",
       "      <td>256.000000</td>\n",
       "      <td>32.000000</td>\n",
       "    </tr>\n",
       "    <tr>\n",
       "      <th>mean</th>\n",
       "      <td>107921.897321</td>\n",
       "      <td>78592.285714</td>\n",
       "      <td>459.468750</td>\n",
       "      <td>429.486607</td>\n",
       "      <td>11199.019531</td>\n",
       "      <td>9054.080357</td>\n",
       "      <td>186189.382812</td>\n",
       "      <td>34.153846</td>\n",
       "      <td>851.917969</td>\n",
       "      <td>2015.500000</td>\n",
       "      <td>17311.312500</td>\n",
       "    </tr>\n",
       "    <tr>\n",
       "      <th>std</th>\n",
       "      <td>109916.974184</td>\n",
       "      <td>87790.281046</td>\n",
       "      <td>640.838275</td>\n",
       "      <td>504.176218</td>\n",
       "      <td>27847.475319</td>\n",
       "      <td>16676.532674</td>\n",
       "      <td>200125.489492</td>\n",
       "      <td>49.367333</td>\n",
       "      <td>1043.335427</td>\n",
       "      <td>4.618802</td>\n",
       "      <td>26731.924427</td>\n",
       "    </tr>\n",
       "    <tr>\n",
       "      <th>min</th>\n",
       "      <td>5020.000000</td>\n",
       "      <td>3625.000000</td>\n",
       "      <td>20.000000</td>\n",
       "      <td>10.000000</td>\n",
       "      <td>83.000000</td>\n",
       "      <td>122.000000</td>\n",
       "      <td>2790.000000</td>\n",
       "      <td>1.000000</td>\n",
       "      <td>15.000000</td>\n",
       "      <td>2008.000000</td>\n",
       "      <td>796.000000</td>\n",
       "    </tr>\n",
       "    <tr>\n",
       "      <th>25%</th>\n",
       "      <td>35264.250000</td>\n",
       "      <td>17724.750000</td>\n",
       "      <td>88.000000</td>\n",
       "      <td>111.500000</td>\n",
       "      <td>541.750000</td>\n",
       "      <td>703.000000</td>\n",
       "      <td>53837.000000</td>\n",
       "      <td>5.500000</td>\n",
       "      <td>199.500000</td>\n",
       "      <td>2011.750000</td>\n",
       "      <td>3091.250000</td>\n",
       "    </tr>\n",
       "    <tr>\n",
       "      <th>50%</th>\n",
       "      <td>54902.000000</td>\n",
       "      <td>34090.500000</td>\n",
       "      <td>220.500000</td>\n",
       "      <td>205.500000</td>\n",
       "      <td>1887.000000</td>\n",
       "      <td>2934.000000</td>\n",
       "      <td>86148.500000</td>\n",
       "      <td>14.000000</td>\n",
       "      <td>408.500000</td>\n",
       "      <td>2015.500000</td>\n",
       "      <td>7732.500000</td>\n",
       "    </tr>\n",
       "    <tr>\n",
       "      <th>75%</th>\n",
       "      <td>170532.750000</td>\n",
       "      <td>132045.000000</td>\n",
       "      <td>535.500000</td>\n",
       "      <td>600.250000</td>\n",
       "      <td>7781.750000</td>\n",
       "      <td>8057.500000</td>\n",
       "      <td>315525.500000</td>\n",
       "      <td>40.500000</td>\n",
       "      <td>1143.250000</td>\n",
       "      <td>2019.250000</td>\n",
       "      <td>16814.750000</td>\n",
       "    </tr>\n",
       "    <tr>\n",
       "      <th>max</th>\n",
       "      <td>521661.000000</td>\n",
       "      <td>339338.000000</td>\n",
       "      <td>4037.000000</td>\n",
       "      <td>2845.000000</td>\n",
       "      <td>184240.000000</td>\n",
       "      <td>84491.000000</td>\n",
       "      <td>745980.000000</td>\n",
       "      <td>244.000000</td>\n",
       "      <td>6015.000000</td>\n",
       "      <td>2023.000000</td>\n",
       "      <td>114141.000000</td>\n",
       "    </tr>\n",
       "  </tbody>\n",
       "</table>\n",
       "</div>"
      ],
      "text/plain": [
       "              Benzin         Diesel  \\\n",
       "count     224.000000     224.000000   \n",
       "mean   107921.897321   78592.285714   \n",
       "std    109916.974184   87790.281046   \n",
       "min      5020.000000    3625.000000   \n",
       "25%     35264.250000   17724.750000   \n",
       "50%     54902.000000   34090.500000   \n",
       "75%    170532.750000  132045.000000   \n",
       "max    521661.000000  339338.000000   \n",
       "\n",
       "       Flüssiggas\\n(LPG)\\n(einschließlich\\nbivalent)  \\\n",
       "count                                     224.000000   \n",
       "mean                                      459.468750   \n",
       "std                                       640.838275   \n",
       "min                                        20.000000   \n",
       "25%                                        88.000000   \n",
       "50%                                       220.500000   \n",
       "75%                                       535.500000   \n",
       "max                                      4037.000000   \n",
       "\n",
       "       Erdgas\\n(CNG)\\n(einschließlich\\nbivalent)  Hybrid\\ninsgesamt  \\\n",
       "count                                 224.000000         256.000000   \n",
       "mean                                  429.486607       11199.019531   \n",
       "std                                   504.176218       27847.475319   \n",
       "min                                    10.000000          83.000000   \n",
       "25%                                   111.500000         541.750000   \n",
       "50%                                   205.500000        1887.000000   \n",
       "75%                                   600.250000        7781.750000   \n",
       "max                                  2845.000000      184240.000000   \n",
       "\n",
       "       darunter\\nPlug-in  Zum Vergleich:\\nInsgesamt  \\\n",
       "count         112.000000                 256.000000   \n",
       "mean         9054.080357              186189.382812   \n",
       "std         16676.532674              200125.489492   \n",
       "min           122.000000                2790.000000   \n",
       "25%           703.000000               53837.000000   \n",
       "50%          2934.000000               86148.500000   \n",
       "75%          8057.500000              315525.500000   \n",
       "max         84491.000000              745980.000000   \n",
       "\n",
       "       Anzahl insgesamt Brennstoffzelle (Wasserstoff)    Total Gas  \\\n",
       "count                                       39.000000   256.000000   \n",
       "mean                                        34.153846   851.917969   \n",
       "std                                         49.367333  1043.335427   \n",
       "min                                          1.000000    15.000000   \n",
       "25%                                          5.500000   199.500000   \n",
       "50%                                         14.000000   408.500000   \n",
       "75%                                         40.500000  1143.250000   \n",
       "max                                        244.000000  6015.000000   \n",
       "\n",
       "              Jahr  andere Hybrid  \n",
       "count   256.000000      32.000000  \n",
       "mean   2015.500000   17311.312500  \n",
       "std       4.618802   26731.924427  \n",
       "min    2008.000000     796.000000  \n",
       "25%    2011.750000    3091.250000  \n",
       "50%    2015.500000    7732.500000  \n",
       "75%    2019.250000   16814.750000  \n",
       "max    2023.000000  114141.000000  "
      ]
     },
     "execution_count": 34,
     "metadata": {},
     "output_type": "execute_result"
    }
   ],
   "source": [
    "# Checking the dataframes central tendencies\n",
    "df_registered_cars.describe()"
   ]
  },
  {
   "cell_type": "code",
   "execution_count": 35,
   "metadata": {},
   "outputs": [
    {
     "data": {
      "text/plain": [
       "Index(['Land', 'Benzin', 'Diesel',\n",
       "       'Flüssiggas\\n(LPG)\\n(einschließlich\\nbivalent)',\n",
       "       'Erdgas\\n(CNG)\\n(einschließlich\\nbivalent)', 'Elektro\\n(BEV)',\n",
       "       'Hybrid\\ninsgesamt', 'darunter\\nPlug-in', 'Zum Vergleich:\\nInsgesamt',\n",
       "       'Anzahl insgesamt Brennstoffzelle (Wasserstoff)', 'Total Gas', 'Jahr',\n",
       "       'Month', 'andere Hybrid'],\n",
       "      dtype='object')"
      ]
     },
     "execution_count": 35,
     "metadata": {},
     "output_type": "execute_result"
    }
   ],
   "source": [
    "# Checking for the columns \n",
    "df_registered_cars.columns"
   ]
  },
  {
   "cell_type": "code",
   "execution_count": 37,
   "metadata": {},
   "outputs": [],
   "source": [
    "# Translating column names from German to English\n",
    "# Changing the names in a pythonic way. lower case and replacing ' ' with '_'\n",
    "df_registered_cars.rename(columns={'Land': 'Country',\n",
    "                                    'Benzin': 'Gasoline',\n",
    "                                    'Diesel': 'Diesel',\n",
    "                                    'Flüssiggas\\n(LPG)\\n(einschließlich\\nbivalent)': 'Liquefied petroleum gas (LPG)',\n",
    "                                    'Erdgas\\n(CNG)\\n(einschließlich\\nbivalent)': 'Compressed natural gas (CNG)',\n",
    "                                    'Elektro\\n(BEV)': 'Battery-electric vehicle (BEV)',\n",
    "                                    'Hybrid\\ninsgesamt': 'Total hybrid',\n",
    "                                    'darunter\\nPlug-in': 'Plug-in',\n",
    "                                    'Zum Vergleich:\\nInsgesamt': 'Total',\n",
    "                                    'Anzahl insgesamt Brennstoffzelle (Wasserstoff)': 'Total fuel cell (hydrogen)',\n",
    "                                    'Total Gas': 'Total gas',\n",
    "                                    'Jahr': 'Year',\n",
    "                                    'Month': 'Month',\n",
    "                                    'andere Hybrid': 'Other hybrid'}, inplace=True)\n"
   ]
  },
  {
   "cell_type": "code",
   "execution_count": 38,
   "metadata": {},
   "outputs": [],
   "source": [
    "# Convert column names to lowercase and replace spaces with underscores\n",
    "df_registered_cars.columns = df_registered_cars.columns.str.lower().str.replace(' ', '_')"
   ]
  },
  {
   "cell_type": "code",
   "execution_count": 39,
   "metadata": {},
   "outputs": [
    {
     "data": {
      "text/plain": [
       "Index(['country', 'gasoline', 'diesel', 'liquefied_petroleum_gas_(lpg)',\n",
       "       'compressed_natural_gas_(cng)', 'battery-electric_vehicle_(bev)',\n",
       "       'total_hybrid', 'plug-in', 'total', 'total_fuel_cell_(hydrogen)',\n",
       "       'total_gas', 'year', 'month', 'other_hybrid'],\n",
       "      dtype='object')"
      ]
     },
     "execution_count": 39,
     "metadata": {},
     "output_type": "execute_result"
    }
   ],
   "source": [
    "# Checking the new column names\n",
    "df_registered_cars.columns"
   ]
  },
  {
   "cell_type": "code",
   "execution_count": 40,
   "metadata": {},
   "outputs": [],
   "source": [
    "# Changing country column to federal state\n",
    "df_registered_cars.rename(columns={'country': 'federal_state', 'battery-electric_vehicle_(bev)': 'battery_electric_vehicle', 'plug-in': 'hybrid_electric'}, inplace=True)"
   ]
  },
  {
   "cell_type": "code",
   "execution_count": 41,
   "metadata": {},
   "outputs": [],
   "source": [
    "# Dropping the unnecessary columns\n",
    "df_registered_cars.drop(['gasoline', 'diesel', 'liquefied_petroleum_gas_(lpg)', 'compressed_natural_gas_(cng)', 'month'], axis=1, inplace=True)"
   ]
  },
  {
   "cell_type": "code",
   "execution_count": 42,
   "metadata": {},
   "outputs": [
    {
     "name": "stdout",
     "output_type": "stream",
     "text": [
      "<class 'pandas.core.frame.DataFrame'>\n",
      "RangeIndex: 256 entries, 0 to 255\n",
      "Data columns (total 9 columns):\n",
      " #   Column                      Non-Null Count  Dtype  \n",
      "---  ------                      --------------  -----  \n",
      " 0   federal_state               256 non-null    object \n",
      " 1   battery_electric_vehicle    256 non-null    object \n",
      " 2   total_hybrid                256 non-null    int64  \n",
      " 3   hybrid_electric             112 non-null    float64\n",
      " 4   total                       256 non-null    int64  \n",
      " 5   total_fuel_cell_(hydrogen)  39 non-null     float64\n",
      " 6   total_gas                   256 non-null    int64  \n",
      " 7   year                        256 non-null    int64  \n",
      " 8   other_hybrid                32 non-null     float64\n",
      "dtypes: float64(3), int64(4), object(2)\n",
      "memory usage: 18.1+ KB\n"
     ]
    }
   ],
   "source": [
    "df_registered_cars.info()"
   ]
  },
  {
   "attachments": {},
   "cell_type": "markdown",
   "metadata": {},
   "source": [
    "#### Meta Data\n",
    "\n",
    "|Variable |Definition  | Key|\n",
    "|--- | --- | ---|\n",
    "|**federal_state**| Federal state of Germany ||\n",
    "|**battery_electric_vehicle**| Count of pure electric cars ||\n",
    "|**total_hybrid**| Count of all hybrids (plug-in hybrids included) ||\n",
    "|**hybrid_electric**| Count of all plug-in hybrids ||\n",
    "|**total**| Total amount  ||\n",
    "|**total_fuel_cell_(hydrogen)**| Count of hydrogen cars ||\n",
    "|**total_gas**| Count of CNG and LPG cars ||\n",
    "|**year**| Year of observation (2008-2023) ||\n",
    "|**other_hybrid**| Count of all hybrids (plug-in hybrids excluded) |total_hybrid - hybrid_electric|"
   ]
  },
  {
   "attachments": {},
   "cell_type": "markdown",
   "metadata": {},
   "source": [
    "#### Detailed EDA"
   ]
  },
  {
   "cell_type": "code",
   "execution_count": 43,
   "metadata": {},
   "outputs": [
    {
     "name": "stdout",
     "output_type": "stream",
     "text": [
      "federal_state                   0\n",
      "battery_electric_vehicle        0\n",
      "total_hybrid                    0\n",
      "hybrid_electric               144\n",
      "total                           0\n",
      "total_fuel_cell_(hydrogen)    217\n",
      "total_gas                       0\n",
      "year                            0\n",
      "other_hybrid                  224\n",
      "dtype: int64\n"
     ]
    }
   ],
   "source": [
    "# Check for missing values\n",
    "print(df_registered_cars.isnull().sum())"
   ]
  },
  {
   "cell_type": "code",
   "execution_count": 18,
   "metadata": {},
   "outputs": [
    {
     "data": {
      "text/html": [
       "<div>\n",
       "<style scoped>\n",
       "    .dataframe tbody tr th:only-of-type {\n",
       "        vertical-align: middle;\n",
       "    }\n",
       "\n",
       "    .dataframe tbody tr th {\n",
       "        vertical-align: top;\n",
       "    }\n",
       "\n",
       "    .dataframe thead th {\n",
       "        text-align: right;\n",
       "    }\n",
       "</style>\n",
       "<table border=\"1\" class=\"dataframe\">\n",
       "  <thead>\n",
       "    <tr style=\"text-align: right;\">\n",
       "      <th></th>\n",
       "      <th>federal_state</th>\n",
       "      <th>battery_electric_vehicle</th>\n",
       "      <th>total_hybrid</th>\n",
       "      <th>hybrid_electric</th>\n",
       "      <th>total</th>\n",
       "      <th>total_fuel_cell_(hydrogen)</th>\n",
       "      <th>total_gas</th>\n",
       "      <th>year</th>\n",
       "      <th>other_hybrid</th>\n",
       "    </tr>\n",
       "  </thead>\n",
       "  <tbody>\n",
       "    <tr>\n",
       "      <th>254</th>\n",
       "      <td>Schleswig-Holstein</td>\n",
       "      <td>2</td>\n",
       "      <td>206.0</td>\n",
       "      <td>NaN</td>\n",
       "      <td>79943</td>\n",
       "      <td>NaN</td>\n",
       "      <td>NaN</td>\n",
       "      <td>2008</td>\n",
       "      <td>NaN</td>\n",
       "    </tr>\n",
       "    <tr>\n",
       "      <th>255</th>\n",
       "      <td>Thüringen</td>\n",
       "      <td>-</td>\n",
       "      <td>140.0</td>\n",
       "      <td>NaN</td>\n",
       "      <td>66687</td>\n",
       "      <td>NaN</td>\n",
       "      <td>NaN</td>\n",
       "      <td>2008</td>\n",
       "      <td>NaN</td>\n",
       "    </tr>\n",
       "  </tbody>\n",
       "</table>\n",
       "</div>"
      ],
      "text/plain": [
       "          federal_state battery_electric_vehicle  total_hybrid  \\\n",
       "254  Schleswig-Holstein                        2         206.0   \n",
       "255           Thüringen                        -         140.0   \n",
       "\n",
       "     hybrid_electric  total total_fuel_cell_(hydrogen)  total_gas  year  \\\n",
       "254              NaN  79943                        NaN        NaN  2008   \n",
       "255              NaN  66687                        NaN        NaN  2008   \n",
       "\n",
       "     other_hybrid  \n",
       "254           NaN  \n",
       "255           NaN  "
      ]
     },
     "execution_count": 18,
     "metadata": {},
     "output_type": "execute_result"
    }
   ],
   "source": [
    "# Getting rid of leading or trailing whitespaces\n",
    "df_registered_cars = df_registered_cars.applymap(lambda x: x.strip() if isinstance(x, str) else x)\n",
    "df_registered_cars.tail(2)"
   ]
  },
  {
   "cell_type": "code",
   "execution_count": 19,
   "metadata": {},
   "outputs": [
    {
     "name": "stdout",
     "output_type": "stream",
     "text": [
      "Number of duplicate entries:  0\n",
      "0      False\n",
      "1      False\n",
      "2      False\n",
      "3      False\n",
      "4      False\n",
      "       ...  \n",
      "251    False\n",
      "252    False\n",
      "253    False\n",
      "254    False\n",
      "255    False\n",
      "Length: 256, dtype: bool\n"
     ]
    }
   ],
   "source": [
    "# Checking for duplicates\n",
    "duplicates = df_registered_cars.duplicated()\n",
    "print('Number of duplicate entries: ', duplicates.sum())\n",
    "print(duplicates)"
   ]
  },
  {
   "cell_type": "code",
   "execution_count": 20,
   "metadata": {},
   "outputs": [
    {
     "data": {
      "text/html": [
       "<div>\n",
       "<style scoped>\n",
       "    .dataframe tbody tr th:only-of-type {\n",
       "        vertical-align: middle;\n",
       "    }\n",
       "\n",
       "    .dataframe tbody tr th {\n",
       "        vertical-align: top;\n",
       "    }\n",
       "\n",
       "    .dataframe thead th {\n",
       "        text-align: right;\n",
       "    }\n",
       "</style>\n",
       "<table border=\"1\" class=\"dataframe\">\n",
       "  <thead>\n",
       "    <tr style=\"text-align: right;\">\n",
       "      <th></th>\n",
       "      <th>federal_state</th>\n",
       "      <th>battery_electric_vehicle</th>\n",
       "      <th>total_hybrid</th>\n",
       "      <th>hybrid_electric</th>\n",
       "      <th>total</th>\n",
       "      <th>total_fuel_cell_(hydrogen)</th>\n",
       "      <th>total_gas</th>\n",
       "      <th>year</th>\n",
       "      <th>other_hybrid</th>\n",
       "    </tr>\n",
       "  </thead>\n",
       "  <tbody>\n",
       "    <tr>\n",
       "      <th>253</th>\n",
       "      <td>Sachsen-Anhalt</td>\n",
       "      <td>-</td>\n",
       "      <td>143.0</td>\n",
       "      <td>NaN</td>\n",
       "      <td>59576</td>\n",
       "      <td>NaN</td>\n",
       "      <td>NaN</td>\n",
       "      <td>2008</td>\n",
       "      <td>NaN</td>\n",
       "    </tr>\n",
       "    <tr>\n",
       "      <th>254</th>\n",
       "      <td>Schleswig-Holstein</td>\n",
       "      <td>2</td>\n",
       "      <td>206.0</td>\n",
       "      <td>NaN</td>\n",
       "      <td>79943</td>\n",
       "      <td>NaN</td>\n",
       "      <td>NaN</td>\n",
       "      <td>2008</td>\n",
       "      <td>NaN</td>\n",
       "    </tr>\n",
       "    <tr>\n",
       "      <th>255</th>\n",
       "      <td>Thüringen</td>\n",
       "      <td>-</td>\n",
       "      <td>140.0</td>\n",
       "      <td>NaN</td>\n",
       "      <td>66687</td>\n",
       "      <td>NaN</td>\n",
       "      <td>NaN</td>\n",
       "      <td>2008</td>\n",
       "      <td>NaN</td>\n",
       "    </tr>\n",
       "  </tbody>\n",
       "</table>\n",
       "</div>"
      ],
      "text/plain": [
       "          federal_state battery_electric_vehicle  total_hybrid  \\\n",
       "253      Sachsen-Anhalt                        -         143.0   \n",
       "254  Schleswig-Holstein                        2         206.0   \n",
       "255           Thüringen                        -         140.0   \n",
       "\n",
       "     hybrid_electric  total total_fuel_cell_(hydrogen)  total_gas  year  \\\n",
       "253              NaN  59576                        NaN        NaN  2008   \n",
       "254              NaN  79943                        NaN        NaN  2008   \n",
       "255              NaN  66687                        NaN        NaN  2008   \n",
       "\n",
       "     other_hybrid  \n",
       "253           NaN  \n",
       "254           NaN  \n",
       "255           NaN  "
      ]
     },
     "execution_count": 20,
     "metadata": {},
     "output_type": "execute_result"
    }
   ],
   "source": [
    "# Calling dataframe after dealing with duplicates\n",
    "df_registered_cars.tail(3)"
   ]
  },
  {
   "cell_type": "code",
   "execution_count": 25,
   "metadata": {},
   "outputs": [],
   "source": [
    "# Checking if any column starts with a space\n",
    "for col in df_registered_cars.columns:\n",
    "    if df_registered_cars[col].dtype == 'O': # check if column has object dtype (i.e. contains strings)\n",
    "        if df_registered_cars[col].str.startswith(' ').any(): # check if any string in column starts with a space\n",
    "            print(f\"Column {col} contains values starting with a space.\")\n"
   ]
  },
  {
   "cell_type": "code",
   "execution_count": 26,
   "metadata": {},
   "outputs": [
    {
     "name": "stdout",
     "output_type": "stream",
     "text": [
      "<class 'pandas.core.frame.DataFrame'>\n",
      "RangeIndex: 256 entries, 0 to 255\n",
      "Data columns (total 9 columns):\n",
      " #   Column                      Non-Null Count  Dtype  \n",
      "---  ------                      --------------  -----  \n",
      " 0   federal_state               256 non-null    object \n",
      " 1   battery_electric_vehicle    256 non-null    object \n",
      " 2   total_hybrid                224 non-null    float64\n",
      " 3   hybrid_electric             112 non-null    float64\n",
      " 4   total                       256 non-null    int64  \n",
      " 5   total_fuel_cell_(hydrogen)  48 non-null     object \n",
      " 6   total_gas                   48 non-null     float64\n",
      " 7   year                        256 non-null    int64  \n",
      " 8   other_hybrid                32 non-null     float64\n",
      "dtypes: float64(4), int64(2), object(3)\n",
      "memory usage: 18.1+ KB\n"
     ]
    }
   ],
   "source": [
    "df_registered_cars.info()"
   ]
  },
  {
   "cell_type": "code",
   "execution_count": 28,
   "metadata": {},
   "outputs": [
    {
     "data": {
      "text/html": [
       "<div>\n",
       "<style scoped>\n",
       "    .dataframe tbody tr th:only-of-type {\n",
       "        vertical-align: middle;\n",
       "    }\n",
       "\n",
       "    .dataframe tbody tr th {\n",
       "        vertical-align: top;\n",
       "    }\n",
       "\n",
       "    .dataframe thead th {\n",
       "        text-align: right;\n",
       "    }\n",
       "</style>\n",
       "<table border=\"1\" class=\"dataframe\">\n",
       "  <thead>\n",
       "    <tr style=\"text-align: right;\">\n",
       "      <th></th>\n",
       "      <th>federal_state</th>\n",
       "      <th>battery_electric_vehicle</th>\n",
       "      <th>total_hybrid</th>\n",
       "      <th>hybrid_electric</th>\n",
       "      <th>total</th>\n",
       "      <th>total_fuel_cell_(hydrogen)</th>\n",
       "      <th>total_gas</th>\n",
       "      <th>year</th>\n",
       "      <th>other_hybrid</th>\n",
       "    </tr>\n",
       "  </thead>\n",
       "  <tbody>\n",
       "    <tr>\n",
       "      <th>0</th>\n",
       "      <td>Baden-Württemberg</td>\n",
       "      <td>8706</td>\n",
       "      <td>NaN</td>\n",
       "      <td>4287.0</td>\n",
       "      <td>56104</td>\n",
       "      <td>7</td>\n",
       "      <td>265.0</td>\n",
       "      <td>2023</td>\n",
       "      <td>14108.0</td>\n",
       "    </tr>\n",
       "  </tbody>\n",
       "</table>\n",
       "</div>"
      ],
      "text/plain": [
       "       federal_state battery_electric_vehicle  total_hybrid  hybrid_electric  \\\n",
       "0  Baden-Württemberg                     8706           NaN           4287.0   \n",
       "\n",
       "   total total_fuel_cell_(hydrogen)  total_gas  year  other_hybrid  \n",
       "0  56104                          7      265.0  2023       14108.0  "
      ]
     },
     "execution_count": 28,
     "metadata": {},
     "output_type": "execute_result"
    }
   ],
   "source": [
    "df_registered_cars.head(1)"
   ]
  },
  {
   "cell_type": "code",
   "execution_count": 46,
   "metadata": {},
   "outputs": [
    {
     "data": {
      "text/html": [
       "<div>\n",
       "<style scoped>\n",
       "    .dataframe tbody tr th:only-of-type {\n",
       "        vertical-align: middle;\n",
       "    }\n",
       "\n",
       "    .dataframe tbody tr th {\n",
       "        vertical-align: top;\n",
       "    }\n",
       "\n",
       "    .dataframe thead th {\n",
       "        text-align: right;\n",
       "    }\n",
       "</style>\n",
       "<table border=\"1\" class=\"dataframe\">\n",
       "  <thead>\n",
       "    <tr style=\"text-align: right;\">\n",
       "      <th></th>\n",
       "      <th>federal_state</th>\n",
       "      <th>battery_electric_vehicle</th>\n",
       "      <th>total_hybrid</th>\n",
       "      <th>hybrid_electric</th>\n",
       "      <th>total</th>\n",
       "      <th>total_fuel_cell_(hydrogen)</th>\n",
       "      <th>total_gas</th>\n",
       "      <th>year</th>\n",
       "      <th>other_hybrid</th>\n",
       "    </tr>\n",
       "  </thead>\n",
       "  <tbody>\n",
       "    <tr>\n",
       "      <th>33</th>\n",
       "      <td>Bayern</td>\n",
       "      <td>66860</td>\n",
       "      <td>162937</td>\n",
       "      <td>62898.0</td>\n",
       "      <td>531550</td>\n",
       "      <td>65.0</td>\n",
       "      <td>1789</td>\n",
       "      <td>2021</td>\n",
       "      <td>100039.0</td>\n",
       "    </tr>\n",
       "    <tr>\n",
       "      <th>34</th>\n",
       "      <td>Berlin</td>\n",
       "      <td>8737</td>\n",
       "      <td>20620</td>\n",
       "      <td>8889.0</td>\n",
       "      <td>60376</td>\n",
       "      <td>24.0</td>\n",
       "      <td>265</td>\n",
       "      <td>2021</td>\n",
       "      <td>11731.0</td>\n",
       "    </tr>\n",
       "    <tr>\n",
       "      <th>35</th>\n",
       "      <td>Brandenburg</td>\n",
       "      <td>6638</td>\n",
       "      <td>14219</td>\n",
       "      <td>5665.0</td>\n",
       "      <td>50986</td>\n",
       "      <td>7.0</td>\n",
       "      <td>352</td>\n",
       "      <td>2021</td>\n",
       "      <td>8554.0</td>\n",
       "    </tr>\n",
       "    <tr>\n",
       "      <th>36</th>\n",
       "      <td>Bremen</td>\n",
       "      <td>1833</td>\n",
       "      <td>5014</td>\n",
       "      <td>2189.0</td>\n",
       "      <td>15561</td>\n",
       "      <td>1.0</td>\n",
       "      <td>68</td>\n",
       "      <td>2021</td>\n",
       "      <td>2825.0</td>\n",
       "    </tr>\n",
       "    <tr>\n",
       "      <th>37</th>\n",
       "      <td>Hamburg</td>\n",
       "      <td>7334</td>\n",
       "      <td>22912</td>\n",
       "      <td>8295.0</td>\n",
       "      <td>92464</td>\n",
       "      <td>16.0</td>\n",
       "      <td>156</td>\n",
       "      <td>2021</td>\n",
       "      <td>14617.0</td>\n",
       "    </tr>\n",
       "    <tr>\n",
       "      <th>38</th>\n",
       "      <td>Hessen</td>\n",
       "      <td>33727</td>\n",
       "      <td>72303</td>\n",
       "      <td>32006.0</td>\n",
       "      <td>276989</td>\n",
       "      <td>33.0</td>\n",
       "      <td>1640</td>\n",
       "      <td>2021</td>\n",
       "      <td>40297.0</td>\n",
       "    </tr>\n",
       "    <tr>\n",
       "      <th>39</th>\n",
       "      <td>Mecklenburg-Vorpommern</td>\n",
       "      <td>3259</td>\n",
       "      <td>7244</td>\n",
       "      <td>2354.0</td>\n",
       "      <td>29795</td>\n",
       "      <td>7.0</td>\n",
       "      <td>132</td>\n",
       "      <td>2021</td>\n",
       "      <td>4890.0</td>\n",
       "    </tr>\n",
       "    <tr>\n",
       "      <th>40</th>\n",
       "      <td>Niedersachsen</td>\n",
       "      <td>40084</td>\n",
       "      <td>55973</td>\n",
       "      <td>27969.0</td>\n",
       "      <td>269551</td>\n",
       "      <td>38.0</td>\n",
       "      <td>2060</td>\n",
       "      <td>2021</td>\n",
       "      <td>28004.0</td>\n",
       "    </tr>\n",
       "  </tbody>\n",
       "</table>\n",
       "</div>"
      ],
      "text/plain": [
       "             federal_state battery_electric_vehicle  total_hybrid  \\\n",
       "33                  Bayern                    66860        162937   \n",
       "34                  Berlin                     8737         20620   \n",
       "35             Brandenburg                     6638         14219   \n",
       "36                  Bremen                     1833          5014   \n",
       "37                 Hamburg                     7334         22912   \n",
       "38                  Hessen                    33727         72303   \n",
       "39  Mecklenburg-Vorpommern                     3259          7244   \n",
       "40           Niedersachsen                    40084         55973   \n",
       "\n",
       "    hybrid_electric   total  total_fuel_cell_(hydrogen)  total_gas  year  \\\n",
       "33          62898.0  531550                        65.0       1789  2021   \n",
       "34           8889.0   60376                        24.0        265  2021   \n",
       "35           5665.0   50986                         7.0        352  2021   \n",
       "36           2189.0   15561                         1.0         68  2021   \n",
       "37           8295.0   92464                        16.0        156  2021   \n",
       "38          32006.0  276989                        33.0       1640  2021   \n",
       "39           2354.0   29795                         7.0        132  2021   \n",
       "40          27969.0  269551                        38.0       2060  2021   \n",
       "\n",
       "    other_hybrid  \n",
       "33      100039.0  \n",
       "34       11731.0  \n",
       "35        8554.0  \n",
       "36        2825.0  \n",
       "37       14617.0  \n",
       "38       40297.0  \n",
       "39        4890.0  \n",
       "40       28004.0  "
      ]
     },
     "execution_count": 46,
     "metadata": {},
     "output_type": "execute_result"
    }
   ],
   "source": [
    "# Calculate other_hybrid for the rows where it is missing\n",
    "df_registered_cars.loc[df_registered_cars['other_hybrid'].isna(), 'other_hybrid'] = df_registered_cars['total_hybrid'] - df_registered_cars['hybrid_electric']\n",
    "\n",
    "# Check the result for calculated other_hybrid entries\n",
    "df_registered_cars.iloc[33:41]"
   ]
  },
  {
   "cell_type": "code",
   "execution_count": 50,
   "metadata": {},
   "outputs": [],
   "source": [
    "# Convert 'year' column to datetime format\n",
    "df_registered_cars[\"year\"] = pd.to_datetime(df_registered_cars[\"year\"], format= '%Y')\n",
    "# Extracting only the year\n",
    "df_registered_cars['year'] = df_registered_cars['year'].dt.year"
   ]
  },
  {
   "cell_type": "code",
   "execution_count": 51,
   "metadata": {},
   "outputs": [
    {
     "name": "stdout",
     "output_type": "stream",
     "text": [
      "<class 'pandas.core.frame.DataFrame'>\n",
      "RangeIndex: 256 entries, 0 to 255\n",
      "Data columns (total 9 columns):\n",
      " #   Column                      Non-Null Count  Dtype  \n",
      "---  ------                      --------------  -----  \n",
      " 0   federal_state               256 non-null    object \n",
      " 1   battery_electric_vehicle    256 non-null    object \n",
      " 2   total_hybrid                256 non-null    int64  \n",
      " 3   hybrid_electric             112 non-null    float64\n",
      " 4   total                       256 non-null    int64  \n",
      " 5   total_fuel_cell_(hydrogen)  39 non-null     float64\n",
      " 6   total_gas                   256 non-null    int64  \n",
      " 7   year                        256 non-null    int64  \n",
      " 8   other_hybrid                112 non-null    float64\n",
      "dtypes: float64(3), int64(4), object(2)\n",
      "memory usage: 18.1+ KB\n"
     ]
    }
   ],
   "source": [
    "# Check the format\n",
    "df_registered_cars.info()"
   ]
  },
  {
   "cell_type": "code",
   "execution_count": 52,
   "metadata": {},
   "outputs": [
    {
     "data": {
      "text/html": [
       "<div>\n",
       "<style scoped>\n",
       "    .dataframe tbody tr th:only-of-type {\n",
       "        vertical-align: middle;\n",
       "    }\n",
       "\n",
       "    .dataframe tbody tr th {\n",
       "        vertical-align: top;\n",
       "    }\n",
       "\n",
       "    .dataframe thead th {\n",
       "        text-align: right;\n",
       "    }\n",
       "</style>\n",
       "<table border=\"1\" class=\"dataframe\">\n",
       "  <thead>\n",
       "    <tr style=\"text-align: right;\">\n",
       "      <th></th>\n",
       "      <th>federal_state</th>\n",
       "      <th>battery_electric_vehicle</th>\n",
       "      <th>total_hybrid</th>\n",
       "      <th>hybrid_electric</th>\n",
       "      <th>total</th>\n",
       "      <th>total_fuel_cell_(hydrogen)</th>\n",
       "      <th>total_gas</th>\n",
       "      <th>year</th>\n",
       "      <th>other_hybrid</th>\n",
       "    </tr>\n",
       "  </thead>\n",
       "  <tbody>\n",
       "    <tr>\n",
       "      <th>0</th>\n",
       "      <td>Baden-Württemberg</td>\n",
       "      <td>8706</td>\n",
       "      <td>18395</td>\n",
       "      <td>4287.0</td>\n",
       "      <td>56104</td>\n",
       "      <td>7.0</td>\n",
       "      <td>265</td>\n",
       "      <td>2023</td>\n",
       "      <td>14108.0</td>\n",
       "    </tr>\n",
       "  </tbody>\n",
       "</table>\n",
       "</div>"
      ],
      "text/plain": [
       "       federal_state battery_electric_vehicle  total_hybrid  hybrid_electric  \\\n",
       "0  Baden-Württemberg                     8706         18395           4287.0   \n",
       "\n",
       "   total  total_fuel_cell_(hydrogen)  total_gas  year  other_hybrid  \n",
       "0  56104                         7.0        265  2023       14108.0  "
      ]
     },
     "execution_count": 52,
     "metadata": {},
     "output_type": "execute_result"
    }
   ],
   "source": [
    "df_registered_cars.head(1)"
   ]
  },
  {
   "cell_type": "code",
   "execution_count": 67,
   "metadata": {},
   "outputs": [],
   "source": [
    "# Replace '-' with NaN in 'battery_electric_vehicle'\n",
    "df_registered_cars['battery_electric_vehicle'] = df_registered_cars['battery_electric_vehicle'].replace('-', np.nan)\n",
    "\n",
    "# Convert 'battery_electric_vehicle' and 'total_fuel_cell_(hydrogen)' to int Dtype\n",
    "df_registered_cars['battery_electric_vehicle'] = df_registered_cars['battery_electric_vehicle'].astype(float).astype('Int64')\n",
    "df_registered_cars['total_fuel_cell_(hydrogen)'] = df_registered_cars['total_fuel_cell_(hydrogen)'].astype(float).astype('Int64')\n",
    "\n",
    "# Fill NaN values with 0 in the column\n",
    "df_registered_cars['battery_electric_vehicle'] = df_registered_cars['battery_electric_vehicle'].fillna(0)\n",
    "df_registered_cars['total_fuel_cell_(hydrogen)'] = df_registered_cars['total_fuel_cell_(hydrogen)'].fillna(0)"
   ]
  },
  {
   "cell_type": "code",
   "execution_count": 68,
   "metadata": {},
   "outputs": [],
   "source": [
    "# Create new column for fuel engine cars\n",
    "df_registered_cars['fuel_engine'] = df_registered_cars['total'] - df_registered_cars['total_hybrid'] - df_registered_cars['battery_electric_vehicle'] - df_registered_cars['total_fuel_cell_(hydrogen)'] - df_registered_cars['total_gas']\n"
   ]
  },
  {
   "cell_type": "code",
   "execution_count": 69,
   "metadata": {},
   "outputs": [
    {
     "data": {
      "text/plain": [
       "Index(['federal_state', 'battery_electric_vehicle', 'total_hybrid',\n",
       "       'hybrid_electric', 'total', 'total_fuel_cell_(hydrogen)', 'total_gas',\n",
       "       'year', 'other_hybrid', 'fuel_engine'],\n",
       "      dtype='object')"
      ]
     },
     "execution_count": 69,
     "metadata": {},
     "output_type": "execute_result"
    }
   ],
   "source": [
    "# Check new column\n",
    "df_registered_cars.columns"
   ]
  },
  {
   "cell_type": "code",
   "execution_count": 70,
   "metadata": {},
   "outputs": [
    {
     "data": {
      "text/html": [
       "<div>\n",
       "<style scoped>\n",
       "    .dataframe tbody tr th:only-of-type {\n",
       "        vertical-align: middle;\n",
       "    }\n",
       "\n",
       "    .dataframe tbody tr th {\n",
       "        vertical-align: top;\n",
       "    }\n",
       "\n",
       "    .dataframe thead th {\n",
       "        text-align: right;\n",
       "    }\n",
       "</style>\n",
       "<table border=\"1\" class=\"dataframe\">\n",
       "  <thead>\n",
       "    <tr style=\"text-align: right;\">\n",
       "      <th></th>\n",
       "      <th>federal_state</th>\n",
       "      <th>battery_electric_vehicle</th>\n",
       "      <th>total_hybrid</th>\n",
       "      <th>hybrid_electric</th>\n",
       "      <th>total</th>\n",
       "      <th>total_fuel_cell_(hydrogen)</th>\n",
       "      <th>total_gas</th>\n",
       "      <th>year</th>\n",
       "      <th>other_hybrid</th>\n",
       "      <th>fuel_engine</th>\n",
       "    </tr>\n",
       "  </thead>\n",
       "  <tbody>\n",
       "    <tr>\n",
       "      <th>0</th>\n",
       "      <td>Baden-Württemberg</td>\n",
       "      <td>8706</td>\n",
       "      <td>18395</td>\n",
       "      <td>4287.0</td>\n",
       "      <td>56104</td>\n",
       "      <td>7</td>\n",
       "      <td>265</td>\n",
       "      <td>2023</td>\n",
       "      <td>14108.0</td>\n",
       "      <td>28731</td>\n",
       "    </tr>\n",
       "    <tr>\n",
       "      <th>1</th>\n",
       "      <td>Bayern</td>\n",
       "      <td>9558</td>\n",
       "      <td>22954</td>\n",
       "      <td>3629.0</td>\n",
       "      <td>81058</td>\n",
       "      <td>8</td>\n",
       "      <td>325</td>\n",
       "      <td>2023</td>\n",
       "      <td>19325.0</td>\n",
       "      <td>48213</td>\n",
       "    </tr>\n",
       "    <tr>\n",
       "      <th>2</th>\n",
       "      <td>Berlin</td>\n",
       "      <td>1449</td>\n",
       "      <td>4088</td>\n",
       "      <td>607.0</td>\n",
       "      <td>11459</td>\n",
       "      <td>6</td>\n",
       "      <td>50</td>\n",
       "      <td>2023</td>\n",
       "      <td>3481.0</td>\n",
       "      <td>5866</td>\n",
       "    </tr>\n",
       "  </tbody>\n",
       "</table>\n",
       "</div>"
      ],
      "text/plain": [
       "       federal_state  battery_electric_vehicle  total_hybrid  hybrid_electric  \\\n",
       "0  Baden-Württemberg                      8706         18395           4287.0   \n",
       "1             Bayern                      9558         22954           3629.0   \n",
       "2             Berlin                      1449          4088            607.0   \n",
       "\n",
       "   total  total_fuel_cell_(hydrogen)  total_gas  year  other_hybrid  \\\n",
       "0  56104                           7        265  2023       14108.0   \n",
       "1  81058                           8        325  2023       19325.0   \n",
       "2  11459                           6         50  2023        3481.0   \n",
       "\n",
       "   fuel_engine  \n",
       "0        28731  \n",
       "1        48213  \n",
       "2         5866  "
      ]
     },
     "execution_count": 70,
     "metadata": {},
     "output_type": "execute_result"
    }
   ],
   "source": [
    "# Call DataFrame to look at entries of new column\n",
    "df_registered_cars.head(3)"
   ]
  },
  {
   "cell_type": "code",
   "execution_count": 71,
   "metadata": {},
   "outputs": [
    {
     "name": "stdout",
     "output_type": "stream",
     "text": [
      "<class 'pandas.core.frame.DataFrame'>\n",
      "RangeIndex: 256 entries, 0 to 255\n",
      "Data columns (total 10 columns):\n",
      " #   Column                      Non-Null Count  Dtype  \n",
      "---  ------                      --------------  -----  \n",
      " 0   federal_state               256 non-null    object \n",
      " 1   battery_electric_vehicle    256 non-null    Int64  \n",
      " 2   total_hybrid                256 non-null    int64  \n",
      " 3   hybrid_electric             112 non-null    float64\n",
      " 4   total                       256 non-null    int64  \n",
      " 5   total_fuel_cell_(hydrogen)  256 non-null    Int64  \n",
      " 6   total_gas                   256 non-null    int64  \n",
      " 7   year                        256 non-null    int64  \n",
      " 8   other_hybrid                112 non-null    float64\n",
      " 9   fuel_engine                 256 non-null    Int64  \n",
      "dtypes: Int64(3), float64(2), int64(4), object(1)\n",
      "memory usage: 20.9+ KB\n"
     ]
    }
   ],
   "source": [
    "# Check info on changed DataFrame\n",
    "df_registered_cars.info()"
   ]
  },
  {
   "cell_type": "code",
   "execution_count": null,
   "metadata": {},
   "outputs": [],
   "source": [
    "\"\"\"\n",
    "# Replace 0 with NaN in the entire dataframe\n",
    "# df_registered_cars = df_registered_cars.replace(0, np.nan)\n",
    "\"\"\""
   ]
  },
  {
   "cell_type": "code",
   "execution_count": 72,
   "metadata": {},
   "outputs": [],
   "source": [
    "# Filter the rows for the desired years to create a DataFrame for a hybrid-included analysis\n",
    "df_reg_cars_hybrid_analysis = df_registered_cars[(df_registered_cars['year'] >= 2017) & (df_registered_cars['year'] <= 2023)]\n",
    "\n",
    "# Reset the index\n",
    "df_reg_cars_hybrid_analysis = df_reg_cars_hybrid_analysis.reset_index(drop=True)\n"
   ]
  },
  {
   "cell_type": "code",
   "execution_count": 78,
   "metadata": {},
   "outputs": [],
   "source": [
    "# Convert 'hybrid_electric' and 'other_hybrid' to int Dtype\n",
    "df_registered_cars['hybrid_electric'] = df_registered_cars['hybrid_electric'].astype(float).astype('Int64')\n",
    "df_registered_cars['other_hybrid'] = df_registered_cars['other_hybrid'].astype(float).astype('Int64')\n",
    "df_reg_cars_hybrid_analysis['hybrid_electric'] = df_reg_cars_hybrid_analysis['hybrid_electric'].astype(float).astype('Int64')\n",
    "df_reg_cars_hybrid_analysis['other_hybrid'] = df_reg_cars_hybrid_analysis['other_hybrid'].astype(float).astype('Int64')"
   ]
  },
  {
   "cell_type": "code",
   "execution_count": 79,
   "metadata": {},
   "outputs": [
    {
     "name": "stdout",
     "output_type": "stream",
     "text": [
      "<class 'pandas.core.frame.DataFrame'>\n",
      "RangeIndex: 256 entries, 0 to 255\n",
      "Data columns (total 10 columns):\n",
      " #   Column                      Non-Null Count  Dtype \n",
      "---  ------                      --------------  ----- \n",
      " 0   federal_state               256 non-null    object\n",
      " 1   battery_electric_vehicle    256 non-null    Int64 \n",
      " 2   total_hybrid                256 non-null    int64 \n",
      " 3   hybrid_electric             112 non-null    Int64 \n",
      " 4   total                       256 non-null    int64 \n",
      " 5   total_fuel_cell_(hydrogen)  256 non-null    Int64 \n",
      " 6   total_gas                   256 non-null    int64 \n",
      " 7   year                        256 non-null    int64 \n",
      " 8   other_hybrid                112 non-null    Int64 \n",
      " 9   fuel_engine                 256 non-null    Int64 \n",
      "dtypes: Int64(5), int64(4), object(1)\n",
      "memory usage: 21.4+ KB\n"
     ]
    }
   ],
   "source": [
    "df_registered_cars.info()"
   ]
  },
  {
   "cell_type": "code",
   "execution_count": 80,
   "metadata": {},
   "outputs": [
    {
     "name": "stdout",
     "output_type": "stream",
     "text": [
      "(112, 10)\n",
      "<class 'pandas.core.frame.DataFrame'>\n",
      "RangeIndex: 112 entries, 0 to 111\n",
      "Data columns (total 10 columns):\n",
      " #   Column                      Non-Null Count  Dtype \n",
      "---  ------                      --------------  ----- \n",
      " 0   federal_state               112 non-null    object\n",
      " 1   battery_electric_vehicle    112 non-null    Int64 \n",
      " 2   total_hybrid                112 non-null    int64 \n",
      " 3   hybrid_electric             112 non-null    Int64 \n",
      " 4   total                       112 non-null    int64 \n",
      " 5   total_fuel_cell_(hydrogen)  112 non-null    Int64 \n",
      " 6   total_gas                   112 non-null    int64 \n",
      " 7   year                        112 non-null    int64 \n",
      " 8   other_hybrid                112 non-null    Int64 \n",
      " 9   fuel_engine                 112 non-null    Int64 \n",
      "dtypes: Int64(5), int64(4), object(1)\n",
      "memory usage: 9.4+ KB\n"
     ]
    }
   ],
   "source": [
    "# Checking the shape and info on this new DataFrame\n",
    "print(df_reg_cars_hybrid_analysis.shape)\n",
    "df_reg_cars_hybrid_analysis.info()"
   ]
  },
  {
   "cell_type": "code",
   "execution_count": null,
   "metadata": {},
   "outputs": [],
   "source": []
  },
  {
   "cell_type": "code",
   "execution_count": 73,
   "metadata": {},
   "outputs": [
    {
     "data": {
      "text/html": [
       "<div>\n",
       "<style scoped>\n",
       "    .dataframe tbody tr th:only-of-type {\n",
       "        vertical-align: middle;\n",
       "    }\n",
       "\n",
       "    .dataframe tbody tr th {\n",
       "        vertical-align: top;\n",
       "    }\n",
       "\n",
       "    .dataframe thead th {\n",
       "        text-align: right;\n",
       "    }\n",
       "</style>\n",
       "<table border=\"1\" class=\"dataframe\">\n",
       "  <thead>\n",
       "    <tr style=\"text-align: right;\">\n",
       "      <th></th>\n",
       "      <th>federal_state</th>\n",
       "      <th>battery_electric_vehicle</th>\n",
       "      <th>total_hybrid</th>\n",
       "      <th>hybrid_electric</th>\n",
       "      <th>total</th>\n",
       "      <th>total_fuel_cell_(hydrogen)</th>\n",
       "      <th>total_gas</th>\n",
       "      <th>year</th>\n",
       "      <th>other_hybrid</th>\n",
       "      <th>fuel_engine</th>\n",
       "    </tr>\n",
       "  </thead>\n",
       "  <tbody>\n",
       "    <tr>\n",
       "      <th>0</th>\n",
       "      <td>Baden-Württemberg</td>\n",
       "      <td>8706</td>\n",
       "      <td>18395</td>\n",
       "      <td>4287.0</td>\n",
       "      <td>56104</td>\n",
       "      <td>7</td>\n",
       "      <td>265</td>\n",
       "      <td>2023</td>\n",
       "      <td>14108.0</td>\n",
       "      <td>28731</td>\n",
       "    </tr>\n",
       "    <tr>\n",
       "      <th>1</th>\n",
       "      <td>Bayern</td>\n",
       "      <td>9558</td>\n",
       "      <td>22954</td>\n",
       "      <td>3629.0</td>\n",
       "      <td>81058</td>\n",
       "      <td>8</td>\n",
       "      <td>325</td>\n",
       "      <td>2023</td>\n",
       "      <td>19325.0</td>\n",
       "      <td>48213</td>\n",
       "    </tr>\n",
       "  </tbody>\n",
       "</table>\n",
       "</div>"
      ],
      "text/plain": [
       "       federal_state  battery_electric_vehicle  total_hybrid  hybrid_electric  \\\n",
       "0  Baden-Württemberg                      8706         18395           4287.0   \n",
       "1             Bayern                      9558         22954           3629.0   \n",
       "\n",
       "   total  total_fuel_cell_(hydrogen)  total_gas  year  other_hybrid  \\\n",
       "0  56104                           7        265  2023       14108.0   \n",
       "1  81058                           8        325  2023       19325.0   \n",
       "\n",
       "   fuel_engine  \n",
       "0        28731  \n",
       "1        48213  "
      ]
     },
     "execution_count": 73,
     "metadata": {},
     "output_type": "execute_result"
    }
   ],
   "source": [
    "df_reg_cars_hybrid_analysis.head(2)"
   ]
  },
  {
   "attachments": {},
   "cell_type": "markdown",
   "metadata": {},
   "source": [
    "#### Saving Dataframe as CSV "
   ]
  },
  {
   "cell_type": "code",
   "execution_count": 81,
   "metadata": {},
   "outputs": [],
   "source": [
    "# Saving the df_registered_cars as a csv file in this Repo on GitHub \n",
    "df_registered_cars.to_csv('registered_cars_clean.csv', index=False)"
   ]
  },
  {
   "cell_type": "code",
   "execution_count": 82,
   "metadata": {},
   "outputs": [],
   "source": [
    "# Saving the df_reg_cars_hybrid_analysis as a csv file in this Repo on GitHub \n",
    "df_reg_cars_hybrid_analysis.to_csv('reg_cars_hybrid_analysis_clean.csv', index=False)"
   ]
  }
 ],
 "metadata": {
  "kernelspec": {
   "display_name": "nf_base",
   "language": "python",
   "name": "python3"
  },
  "language_info": {
   "codemirror_mode": {
    "name": "ipython",
    "version": 3
   },
   "file_extension": ".py",
   "mimetype": "text/x-python",
   "name": "python",
   "nbconvert_exporter": "python",
   "pygments_lexer": "ipython3",
   "version": "3.9.16"
  },
  "orig_nbformat": 4
 },
 "nbformat": 4,
 "nbformat_minor": 2
}
