{
 "cells": [
  {
   "attachments": {},
   "cell_type": "markdown",
   "metadata": {},
   "source": [
    "##### 1.1 regis_model_fuel_df: all fuel types (for 2.1)\n",
    "##### 1.2 regis_model_fuel_e_df: electric (for analysis)\n",
    "##### 2.1 regis_model_state_df: all fuel types (use 1.1 to check join)\n",
    "##### 2.2 regis_model_state_e_df: electric (for analysis)\n"
   ]
  },
  {
   "cell_type": "code",
   "execution_count": 4,
   "metadata": {},
   "outputs": [],
   "source": [
    "# start 2019"
   ]
  },
  {
   "attachments": {},
   "cell_type": "markdown",
   "metadata": {},
   "source": [
    "### 1. model_and_fuel_type"
   ]
  },
  {
   "attachments": {},
   "cell_type": "markdown",
   "metadata": {},
   "source": [
    "#### 1.1 regis_model_fuel_df"
   ]
  },
  {
   "cell_type": "code",
   "execution_count": 5,
   "metadata": {},
   "outputs": [],
   "source": [
    "# import\n",
    "import pandas as pd"
   ]
  },
  {
   "cell_type": "code",
   "execution_count": 6,
   "metadata": {},
   "outputs": [],
   "source": [
    "# read\n",
    "regis_model_fuel_df = pd.read_excel('model_19.xlsx', sheet_name = 'model_and_fuel_type')\n",
    "regis_model_fuel_df['Hersteller'] = regis_model_fuel_df['Hersteller'].fillna(method = 'ffill')\n",
    "\n",
    "# drop the first column\n",
    "regis_model_fuel_df = regis_model_fuel_df.drop(['Unnamed: 0'], axis = 1)\n",
    "\n",
    "# drop the rows with ZUSAMMEN\n",
    "regis_model_fuel_df = regis_model_fuel_df.drop(regis_model_fuel_df[regis_model_fuel_df['Hersteller'].str.contains('ZUSAMMEN')].index)\n",
    "\n",
    "# rename\n",
    "regis_model_fuel_df.rename(columns={'Hersteller': 'manufacturer',\n",
    "                                            'Handelsname': 'model',\n",
    "                                            'Typ-Schl.-Nr.': 'tsn',\n",
    "                                            'kW': 'power_kw',\n",
    "                                            'Kraftstoffart': 'fuel_type',\n",
    "                                            'Allrad': 'drive_type',\n",
    "                                            'Aufbauart': 'body_type',\n",
    "                                            'Insgesamt': 'new_registration_per_model',\n",
    "                                            'Wohnmobile': 'motorhomes',\n",
    "                                            'private\\nHalter': 'private_owners',\n",
    "                                            'Halter\\nbis 29 Jahre': 'owners_under_29_years',\n",
    "                                            'Halter\\nab 60 Jahre': 'owners_over_60_years',\n",
    "                                            'weibliche\\nHalter': 'female_owners'}, inplace=True)"
   ]
  },
  {
   "cell_type": "code",
   "execution_count": 7,
   "metadata": {},
   "outputs": [
    {
     "name": "stdout",
     "output_type": "stream",
     "text": [
      "<class 'pandas.core.frame.DataFrame'>\n",
      "Int64Index: 3205 entries, 0 to 3263\n",
      "Data columns (total 13 columns):\n",
      " #   Column                      Non-Null Count  Dtype  \n",
      "---  ------                      --------------  -----  \n",
      " 0   manufacturer                3205 non-null   object \n",
      " 1   model                       3204 non-null   object \n",
      " 2   tsn                         3146 non-null   object \n",
      " 3   power_kw                    3146 non-null   float64\n",
      " 4   fuel_type                   3146 non-null   object \n",
      " 5   drive_type                  1120 non-null   object \n",
      " 6   body_type                   166 non-null    object \n",
      " 7   new_registration_per_model  3205 non-null   int64  \n",
      " 8   motorhomes                  3205 non-null   object \n",
      " 9   private_owners              3205 non-null   object \n",
      " 10  owners_under_29_years       3205 non-null   object \n",
      " 11  owners_over_60_years        3205 non-null   object \n",
      " 12  female_owners               3205 non-null   object \n",
      "dtypes: float64(1), int64(1), object(11)\n",
      "memory usage: 350.5+ KB\n"
     ]
    }
   ],
   "source": [
    "regis_model_fuel_df.info()"
   ]
  },
  {
   "cell_type": "code",
   "execution_count": 8,
   "metadata": {},
   "outputs": [
    {
     "data": {
      "text/html": [
       "<div>\n",
       "<style scoped>\n",
       "    .dataframe tbody tr th:only-of-type {\n",
       "        vertical-align: middle;\n",
       "    }\n",
       "\n",
       "    .dataframe tbody tr th {\n",
       "        vertical-align: top;\n",
       "    }\n",
       "\n",
       "    .dataframe thead th {\n",
       "        text-align: right;\n",
       "    }\n",
       "</style>\n",
       "<table border=\"1\" class=\"dataframe\">\n",
       "  <thead>\n",
       "    <tr style=\"text-align: right;\">\n",
       "      <th></th>\n",
       "      <th>manufacturer</th>\n",
       "      <th>model</th>\n",
       "      <th>tsn</th>\n",
       "      <th>power_kw</th>\n",
       "      <th>fuel_type</th>\n",
       "      <th>drive_type</th>\n",
       "      <th>body_type</th>\n",
       "      <th>new_registration_per_model</th>\n",
       "      <th>motorhomes</th>\n",
       "      <th>private_owners</th>\n",
       "      <th>owners_under_29_years</th>\n",
       "      <th>owners_over_60_years</th>\n",
       "      <th>female_owners</th>\n",
       "    </tr>\n",
       "  </thead>\n",
       "  <tbody>\n",
       "    <tr>\n",
       "      <th>3263</th>\n",
       "      <td>SONSTIGE HERSTELLER</td>\n",
       "      <td>NaN</td>\n",
       "      <td>NaN</td>\n",
       "      <td>NaN</td>\n",
       "      <td>NaN</td>\n",
       "      <td>NaN</td>\n",
       "      <td>NaN</td>\n",
       "      <td>2203</td>\n",
       "      <td>385</td>\n",
       "      <td>733</td>\n",
       "      <td>27</td>\n",
       "      <td>234</td>\n",
       "      <td>216</td>\n",
       "    </tr>\n",
       "  </tbody>\n",
       "</table>\n",
       "</div>"
      ],
      "text/plain": [
       "             manufacturer model  tsn  power_kw fuel_type drive_type body_type  \\\n",
       "3263  SONSTIGE HERSTELLER   NaN  NaN       NaN       NaN        NaN       NaN   \n",
       "\n",
       "      new_registration_per_model motorhomes private_owners  \\\n",
       "3263                        2203        385            733   \n",
       "\n",
       "     owners_under_29_years owners_over_60_years female_owners  \n",
       "3263                    27                  234           216  "
      ]
     },
     "execution_count": 8,
     "metadata": {},
     "output_type": "execute_result"
    }
   ],
   "source": [
    "# check NaN\n",
    "list = ['model', 'new_registration_per_model']\n",
    "rows_with_nan = regis_model_fuel_df.loc[regis_model_fuel_df[list].isna().any(axis=1)]\n",
    "rows_with_nan"
   ]
  },
  {
   "cell_type": "code",
   "execution_count": 9,
   "metadata": {},
   "outputs": [
    {
     "name": "stdout",
     "output_type": "stream",
     "text": [
      "Number of duplicate entries:  0\n",
      "0       False\n",
      "1       False\n",
      "2       False\n",
      "3       False\n",
      "4       False\n",
      "        ...  \n",
      "3258    False\n",
      "3259    False\n",
      "3260    False\n",
      "3261    False\n",
      "3263    False\n",
      "Length: 3205, dtype: bool\n"
     ]
    }
   ],
   "source": [
    "# Getting rid of leading or trailing whitespaces\n",
    "regis_model_fuel_df = regis_model_fuel_df.applymap(lambda x: x.strip() if isinstance(x, str) else x) \n",
    "\n",
    "# Variable with all columns to change\n",
    "cols_to_convert_fuel = ['new_registration_per_model', 'motorhomes', 'private_owners',\n",
    "            'owners_under_29_years', 'owners_over_60_years', 'female_owners']\n",
    "\n",
    "# Replace - with 0 and , with .\n",
    "for col_fuel in cols_to_convert_fuel:\n",
    "    regis_model_fuel_df[col_fuel] = regis_model_fuel_df[col_fuel].replace('-', '0').replace(',', '.').astype(int)\n",
    "\n",
    "# Checking for duplicates\n",
    "duplicates = regis_model_fuel_df.duplicated()\n",
    "print('Number of duplicate entries: ', duplicates.sum())\n",
    "print(duplicates)"
   ]
  },
  {
   "cell_type": "code",
   "execution_count": 10,
   "metadata": {},
   "outputs": [],
   "source": [
    "# drop duplicates\n",
    "regis_model_fuel_df = regis_model_fuel_df.drop_duplicates()"
   ]
  },
  {
   "cell_type": "code",
   "execution_count": 11,
   "metadata": {},
   "outputs": [],
   "source": [
    "# add new columns\n",
    "regis_model_fuel_df['business_owners'] = regis_model_fuel_df['new_registration_per_model'] - regis_model_fuel_df['private_owners']\n",
    "regis_model_fuel_df['owners_between_29_and_60_years'] = regis_model_fuel_df['new_registration_per_model'] - regis_model_fuel_df['owners_under_29_years'] - regis_model_fuel_df['owners_over_60_years']\n",
    "regis_model_fuel_df['male_owners'] = regis_model_fuel_df['new_registration_per_model'] - regis_model_fuel_df['female_owners']\n",
    "regis_model_fuel_df[\"year\"] = 2019"
   ]
  },
  {
   "cell_type": "code",
   "execution_count": 12,
   "metadata": {},
   "outputs": [],
   "source": [
    "# drop columns\n",
    "regis_model_fuel_df = regis_model_fuel_df.drop(['power_kw', 'drive_type', 'body_type', 'motorhomes'], axis = 1)"
   ]
  },
  {
   "cell_type": "code",
   "execution_count": 13,
   "metadata": {},
   "outputs": [],
   "source": [
    "regis_model_fuel_df = regis_model_fuel_df.reset_index(drop=True)\n",
    "\n",
    "## All fuel types if needed\n",
    "# regis_model_fuel_df.to_csv('regis_model_fuel_df_2019.csv', index=False)"
   ]
  },
  {
   "attachments": {},
   "cell_type": "markdown",
   "metadata": {},
   "source": [
    "#### 1.2 regis_model_fuel_e_df \n"
   ]
  },
  {
   "cell_type": "code",
   "execution_count": 14,
   "metadata": {},
   "outputs": [],
   "source": [
    "# concentrate on only electric cars\n",
    "regis_model_fuel_e_df = regis_model_fuel_df[regis_model_fuel_df['fuel_type'] == 'E']"
   ]
  },
  {
   "cell_type": "code",
   "execution_count": 15,
   "metadata": {},
   "outputs": [],
   "source": [
    "# final\n",
    "regis_model_fuel_e_df  = regis_model_fuel_e_df.reset_index(drop=True)\n",
    "regis_model_fuel_e_df.to_csv('regis_model_fuel_e_df_2019.csv', index=False)"
   ]
  },
  {
   "attachments": {},
   "cell_type": "markdown",
   "metadata": {},
   "source": [
    "### 2.model_by_state"
   ]
  },
  {
   "attachments": {},
   "cell_type": "markdown",
   "metadata": {},
   "source": [
    "#### 2.1 regis_model_state_df"
   ]
  },
  {
   "cell_type": "code",
   "execution_count": 16,
   "metadata": {},
   "outputs": [],
   "source": [
    "# read\n",
    "regis_model_state_df = pd.read_excel('model_19.xlsx', sheet_name = 'model_by_state')\n",
    "regis_model_state_df['Hersteller'] = regis_model_state_df['Hersteller'].fillna(method = 'ffill')\n",
    "\n",
    "# drop the first column\n",
    "regis_model_state_df = regis_model_state_df.drop(['Unnamed: 0'], axis = 1)\n",
    "\n",
    "# drop the rows with ZUSAMMEN \n",
    "regis_model_state_df = regis_model_state_df.drop(regis_model_state_df[regis_model_state_df['Hersteller'].str.contains('ZUSAMMEN')].index)\n",
    "\n",
    "# rename\n",
    "regis_model_state_df.rename(columns={'Hersteller': 'manufacturer',\n",
    "                                            'Handelsname': 'model',\n",
    "                                            'Typ-Schl.-Nr.': 'tsn',\n",
    "                                            'Baden-\\nWürttemberg' : 'Baden-Württemberg',\n",
    "                                            'Bayern': 'Bayern',\n",
    "                                            'Berlin': 'Berlin',\n",
    "                                            'Branden-\\nburg': 'Brandenburg',\n",
    "                                            'Bremen': 'Bremen',\n",
    "                                            'Hamburg': 'Hamburg',\n",
    "                                            'Hessen': 'Hessen',\n",
    "                                            'Mecklenburg-\\nVorpommern': 'Mecklenburg-Vorpommern',\n",
    "                                            'Nieder-\\nsachsen': 'Niedersachsen',\n",
    "                                            'Nordrhein-\\nWestfalen': 'Nordrhein-Westfalen',\n",
    "                                            'Rheinland-\\nPfalz': 'Rheinland-Pfalz',\n",
    "                                            'Saarland': 'Saarland',\n",
    "                                            'Sachsen': 'Sachsen',\n",
    "                                            'Sachsen-\\nAnhalt': 'Sachsen-Anhalt',\n",
    "                                            'Schleswig-\\nHolstein': 'Schleswig-Holstein',\n",
    "                                            'Thüringen': 'Thüringen',\n",
    "                                            'Sonstige': 'special',\n",
    "                                            'Deutschland': 'new_registration_per_model'}, inplace=True)"
   ]
  },
  {
   "cell_type": "code",
   "execution_count": 17,
   "metadata": {},
   "outputs": [
    {
     "name": "stdout",
     "output_type": "stream",
     "text": [
      "<class 'pandas.core.frame.DataFrame'>\n",
      "Int64Index: 3205 entries, 0 to 3263\n",
      "Data columns (total 21 columns):\n",
      " #   Column                      Non-Null Count  Dtype \n",
      "---  ------                      --------------  ----- \n",
      " 0   manufacturer                3205 non-null   object\n",
      " 1   model                       3204 non-null   object\n",
      " 2   tsn                         3146 non-null   object\n",
      " 3   Baden-Württemberg           3205 non-null   object\n",
      " 4   Bayern                      3205 non-null   object\n",
      " 5   Berlin                      3205 non-null   object\n",
      " 6   Brandenburg                 3205 non-null   object\n",
      " 7   Bremen                      3205 non-null   object\n",
      " 8   Hamburg                     3205 non-null   object\n",
      " 9   Hessen                      3205 non-null   object\n",
      " 10  Mecklenburg-Vorpommern      3205 non-null   object\n",
      " 11  Niedersachsen               3205 non-null   object\n",
      " 12  Nordrhein-Westfalen         3205 non-null   object\n",
      " 13  Rheinland-Pfalz             3205 non-null   object\n",
      " 14  Saarland                    3205 non-null   object\n",
      " 15  Sachsen                     3205 non-null   object\n",
      " 16  Sachsen-Anhalt              3205 non-null   object\n",
      " 17  Schleswig-Holstein          3205 non-null   object\n",
      " 18  Thüringen                   3205 non-null   object\n",
      " 19  special                     3205 non-null   object\n",
      " 20  new_registration_per_model  3205 non-null   int64 \n",
      "dtypes: int64(1), object(20)\n",
      "memory usage: 550.9+ KB\n"
     ]
    }
   ],
   "source": [
    "regis_model_state_df.info()"
   ]
  },
  {
   "cell_type": "code",
   "execution_count": 18,
   "metadata": {},
   "outputs": [
    {
     "data": {
      "text/html": [
       "<div>\n",
       "<style scoped>\n",
       "    .dataframe tbody tr th:only-of-type {\n",
       "        vertical-align: middle;\n",
       "    }\n",
       "\n",
       "    .dataframe tbody tr th {\n",
       "        vertical-align: top;\n",
       "    }\n",
       "\n",
       "    .dataframe thead th {\n",
       "        text-align: right;\n",
       "    }\n",
       "</style>\n",
       "<table border=\"1\" class=\"dataframe\">\n",
       "  <thead>\n",
       "    <tr style=\"text-align: right;\">\n",
       "      <th></th>\n",
       "      <th>manufacturer</th>\n",
       "      <th>model</th>\n",
       "      <th>tsn</th>\n",
       "      <th>Baden-Württemberg</th>\n",
       "      <th>Bayern</th>\n",
       "      <th>Berlin</th>\n",
       "      <th>Brandenburg</th>\n",
       "      <th>Bremen</th>\n",
       "      <th>Hamburg</th>\n",
       "      <th>Hessen</th>\n",
       "      <th>...</th>\n",
       "      <th>Niedersachsen</th>\n",
       "      <th>Nordrhein-Westfalen</th>\n",
       "      <th>Rheinland-Pfalz</th>\n",
       "      <th>Saarland</th>\n",
       "      <th>Sachsen</th>\n",
       "      <th>Sachsen-Anhalt</th>\n",
       "      <th>Schleswig-Holstein</th>\n",
       "      <th>Thüringen</th>\n",
       "      <th>special</th>\n",
       "      <th>new_registration_per_model</th>\n",
       "    </tr>\n",
       "  </thead>\n",
       "  <tbody>\n",
       "  </tbody>\n",
       "</table>\n",
       "<p>0 rows × 21 columns</p>\n",
       "</div>"
      ],
      "text/plain": [
       "Empty DataFrame\n",
       "Columns: [manufacturer, model, tsn, Baden-Württemberg, Bayern, Berlin, Brandenburg, Bremen, Hamburg, Hessen, Mecklenburg-Vorpommern, Niedersachsen, Nordrhein-Westfalen, Rheinland-Pfalz, Saarland, Sachsen, Sachsen-Anhalt, Schleswig-Holstein, Thüringen, special, new_registration_per_model]\n",
       "Index: []\n",
       "\n",
       "[0 rows x 21 columns]"
      ]
     },
     "execution_count": 18,
     "metadata": {},
     "output_type": "execute_result"
    }
   ],
   "source": [
    "# Nan\n",
    "rows_with_nan = regis_model_state_df.loc[regis_model_state_df['new_registration_per_model'].isna()]\n",
    "rows_with_nan"
   ]
  },
  {
   "cell_type": "code",
   "execution_count": 19,
   "metadata": {},
   "outputs": [],
   "source": [
    "regis_model_state_df = regis_model_state_df.dropna(subset=['new_registration_per_model'])"
   ]
  },
  {
   "cell_type": "code",
   "execution_count": 20,
   "metadata": {},
   "outputs": [
    {
     "name": "stdout",
     "output_type": "stream",
     "text": [
      "<class 'pandas.core.frame.DataFrame'>\n",
      "Int64Index: 3205 entries, 0 to 3263\n",
      "Data columns (total 21 columns):\n",
      " #   Column                      Non-Null Count  Dtype \n",
      "---  ------                      --------------  ----- \n",
      " 0   manufacturer                3205 non-null   object\n",
      " 1   model                       3204 non-null   object\n",
      " 2   tsn                         3146 non-null   object\n",
      " 3   Baden-Württemberg           3205 non-null   object\n",
      " 4   Bayern                      3205 non-null   object\n",
      " 5   Berlin                      3205 non-null   object\n",
      " 6   Brandenburg                 3205 non-null   object\n",
      " 7   Bremen                      3205 non-null   object\n",
      " 8   Hamburg                     3205 non-null   object\n",
      " 9   Hessen                      3205 non-null   object\n",
      " 10  Mecklenburg-Vorpommern      3205 non-null   object\n",
      " 11  Niedersachsen               3205 non-null   object\n",
      " 12  Nordrhein-Westfalen         3205 non-null   object\n",
      " 13  Rheinland-Pfalz             3205 non-null   object\n",
      " 14  Saarland                    3205 non-null   object\n",
      " 15  Sachsen                     3205 non-null   object\n",
      " 16  Sachsen-Anhalt              3205 non-null   object\n",
      " 17  Schleswig-Holstein          3205 non-null   object\n",
      " 18  Thüringen                   3205 non-null   object\n",
      " 19  special                     3205 non-null   object\n",
      " 20  new_registration_per_model  3205 non-null   int64 \n",
      "dtypes: int64(1), object(20)\n",
      "memory usage: 550.9+ KB\n"
     ]
    }
   ],
   "source": [
    "regis_model_state_df.info()"
   ]
  },
  {
   "cell_type": "code",
   "execution_count": 21,
   "metadata": {},
   "outputs": [
    {
     "name": "stdout",
     "output_type": "stream",
     "text": [
      "Number of duplicate entries:  0\n",
      "0       False\n",
      "1       False\n",
      "2       False\n",
      "3       False\n",
      "4       False\n",
      "        ...  \n",
      "3258    False\n",
      "3259    False\n",
      "3260    False\n",
      "3261    False\n",
      "3263    False\n",
      "Length: 3205, dtype: bool\n"
     ]
    }
   ],
   "source": [
    "# Variable with all columns to change\n",
    "cols_to_convert_state = ['Baden-Württemberg', 'Bayern',\n",
    "            'Berlin', 'Brandenburg', 'Bremen', 'Hamburg', 'Hessen',\n",
    "            'Mecklenburg-Vorpommern', 'Niedersachsen', 'Nordrhein-Westfalen',\n",
    "            'Rheinland-Pfalz', 'Saarland', 'Sachsen', 'Sachsen-Anhalt',\n",
    "            'Schleswig-Holstein', 'Thüringen', 'special']\n",
    "# Getting rid of leading or trailing whitespaces\n",
    "regis_model_state_df = regis_model_state_df.applymap(lambda x: x.strip() if isinstance(x, str) else x)\n",
    " # Replace - with 0\n",
    "for col_state in cols_to_convert_state:\n",
    "    regis_model_state_df[col_state] = regis_model_state_df[col_state].replace('-', '0').replace(',', '.').astype(float).fillna(0).astype(int)\n",
    "# Checking for duplicates\n",
    "duplicates_state = regis_model_state_df.duplicated()\n",
    "print('Number of duplicate entries: ', duplicates.sum())\n",
    "print(duplicates_state)\n",
    "        "
   ]
  },
  {
   "cell_type": "code",
   "execution_count": 22,
   "metadata": {},
   "outputs": [],
   "source": [
    "# drop duplicates\n",
    "regis_model_state_df = regis_model_state_df.drop_duplicates()"
   ]
  },
  {
   "cell_type": "code",
   "execution_count": 23,
   "metadata": {},
   "outputs": [
    {
     "data": {
      "text/html": [
       "<div>\n",
       "<style scoped>\n",
       "    .dataframe tbody tr th:only-of-type {\n",
       "        vertical-align: middle;\n",
       "    }\n",
       "\n",
       "    .dataframe tbody tr th {\n",
       "        vertical-align: top;\n",
       "    }\n",
       "\n",
       "    .dataframe thead th {\n",
       "        text-align: right;\n",
       "    }\n",
       "</style>\n",
       "<table border=\"1\" class=\"dataframe\">\n",
       "  <thead>\n",
       "    <tr style=\"text-align: right;\">\n",
       "      <th></th>\n",
       "      <th>manufacturer</th>\n",
       "      <th>model</th>\n",
       "      <th>tsn</th>\n",
       "      <th>Baden-Württemberg</th>\n",
       "      <th>Bayern</th>\n",
       "      <th>Berlin</th>\n",
       "      <th>Brandenburg</th>\n",
       "      <th>Bremen</th>\n",
       "      <th>Hamburg</th>\n",
       "      <th>Hessen</th>\n",
       "      <th>...</th>\n",
       "      <th>Rheinland-Pfalz</th>\n",
       "      <th>Saarland</th>\n",
       "      <th>Sachsen</th>\n",
       "      <th>Sachsen-Anhalt</th>\n",
       "      <th>Schleswig-Holstein</th>\n",
       "      <th>Thüringen</th>\n",
       "      <th>special</th>\n",
       "      <th>new_registration_per_model</th>\n",
       "      <th>year</th>\n",
       "      <th>check</th>\n",
       "    </tr>\n",
       "  </thead>\n",
       "  <tbody>\n",
       "  </tbody>\n",
       "</table>\n",
       "<p>0 rows × 23 columns</p>\n",
       "</div>"
      ],
      "text/plain": [
       "Empty DataFrame\n",
       "Columns: [manufacturer, model, tsn, Baden-Württemberg, Bayern, Berlin, Brandenburg, Bremen, Hamburg, Hessen, Mecklenburg-Vorpommern, Niedersachsen, Nordrhein-Westfalen, Rheinland-Pfalz, Saarland, Sachsen, Sachsen-Anhalt, Schleswig-Holstein, Thüringen, special, new_registration_per_model, year, check]\n",
       "Index: []\n",
       "\n",
       "[0 rows x 23 columns]"
      ]
     },
     "execution_count": 23,
     "metadata": {},
     "output_type": "execute_result"
    }
   ],
   "source": [
    "#  want to add fuel type but need to check (ues data from 1.1)\n",
    "regis_model_state_df = regis_model_state_df.reset_index(drop=True)\n",
    "regis_model_state_df[\"year\"] = 2019\n",
    "regis_model_state_df['check'] = regis_model_fuel_df['new_registration_per_model']\n",
    "regis_model_state_df[regis_model_state_df.new_registration_per_model != regis_model_state_df.check] "
   ]
  },
  {
   "cell_type": "code",
   "execution_count": 24,
   "metadata": {},
   "outputs": [],
   "source": [
    "# if there is no results for last cell, then continue\n",
    "# add fuel type\n",
    "regis_model_state_df = regis_model_state_df.drop(['check'], axis = 1)\n",
    "regis_model_state_df['fuel_type'] = regis_model_fuel_df['fuel_type']"
   ]
  },
  {
   "cell_type": "code",
   "execution_count": 25,
   "metadata": {},
   "outputs": [],
   "source": [
    "regis_model_state_df['model'] = regis_model_fuel_df['model']\n",
    "regis_model_state_df['tsn'] = regis_model_fuel_df['tsn']"
   ]
  },
  {
   "cell_type": "code",
   "execution_count": 26,
   "metadata": {},
   "outputs": [],
   "source": [
    "# put all states into one column\n",
    "id_cols = pd.concat([regis_model_state_df.iloc[:, :3], regis_model_state_df.iloc[:, 20:]], axis=1)\n",
    "regis_model_state_df = pd.melt(regis_model_state_df, id_vars=id_cols, value_vars=regis_model_state_df.columns[3:20], var_name='federal_state', value_name='new_registration')\n",
    "regis_model_state_df = regis_model_state_df.drop(['new_registration_per_model'], axis = 1)"
   ]
  },
  {
   "cell_type": "code",
   "execution_count": 27,
   "metadata": {},
   "outputs": [],
   "source": [
    "# final\n",
    "regis_model_state_df = regis_model_state_df.reset_index(drop=True)\n",
    "\n",
    "## All fuel types if needed\n",
    "# regis_model_state_df.to_csv('regis_model_state_df_2019.csv', index=False)"
   ]
  },
  {
   "attachments": {},
   "cell_type": "markdown",
   "metadata": {},
   "source": [
    "#### 2.2 regis_model_state_e_df"
   ]
  },
  {
   "cell_type": "code",
   "execution_count": 28,
   "metadata": {},
   "outputs": [],
   "source": [
    "regis_model_state_e_df = regis_model_state_df[regis_model_state_df.fuel_type == 'E']"
   ]
  },
  {
   "cell_type": "code",
   "execution_count": 29,
   "metadata": {},
   "outputs": [],
   "source": [
    "# final\n",
    "regis_model_state_e_df = regis_model_state_e_df.reset_index(drop=True)\n",
    "regis_model_state_e_df.to_csv('regis_model_state_e_df_2019.csv', index=False)"
   ]
  },
  {
   "attachments": {},
   "cell_type": "markdown",
   "metadata": {},
   "source": [
    "## Inserting DataFrames into PostgreSQL Server"
   ]
  },
  {
   "cell_type": "code",
   "execution_count": 30,
   "metadata": {},
   "outputs": [],
   "source": [
    "# Import get_engine function from sql_functions.py and set it to a variable called engine\n",
    "from sql_functions import get_engine\n",
    "engine = get_engine()\n",
    "# Import psycopg2\n",
    "import psycopg2"
   ]
  },
  {
   "cell_type": "code",
   "execution_count": 33,
   "metadata": {},
   "outputs": [],
   "source": [
    "# IMPORTANT: Set the schema to capstone schema name and set the table_name variable\n",
    "schema = 'cp_analytics_g2' # example 'hh_analytics_22_1\n",
    "table_name = 'new_registration_2019_fuel'"
   ]
  },
  {
   "cell_type": "code",
   "execution_count": 34,
   "metadata": {},
   "outputs": [
    {
     "name": "stdout",
     "output_type": "stream",
     "text": [
      "The new_registration_2019_fuel table was imported successfully.\n"
     ]
    }
   ],
   "source": [
    "# Write records stored in a dataframe to SQL database\n",
    "if engine!=None:\n",
    "    try:\n",
    "        regis_model_fuel_e_df.to_sql(table_name, # Name of SQL table\n",
    "                        con=engine, # Engine or connection\n",
    "                        if_exists='replace', # Drop the table before inserting new values \n",
    "                        schema=schema, # your class schema\n",
    "                        index=False, # Write DataFrame index as a column\n",
    "                        chunksize=5000, # Specify the number of rows in each batch to be written at a time\n",
    "                        method='multi') # Pass multiple values in a single INSERT clause\n",
    "        print(f\"The {table_name} table was imported successfully.\")\n",
    "    # Error handling\n",
    "    except (Exception, psycopg2.DatabaseError) as error:\n",
    "        print(error)\n",
    "        engine = None"
   ]
  },
  {
   "cell_type": "code",
   "execution_count": 35,
   "metadata": {},
   "outputs": [],
   "source": [
    "# Define second table name variable\n",
    "schema_2 = 'cp_analytics_g2' # example 'hh_analytics_22_1\n",
    "table_name_2 = 'new_registration_2019_state'"
   ]
  },
  {
   "cell_type": "code",
   "execution_count": 36,
   "metadata": {},
   "outputs": [
    {
     "name": "stdout",
     "output_type": "stream",
     "text": [
      "The new_registration_2019_state table was imported successfully.\n"
     ]
    }
   ],
   "source": [
    "# Write records stored in a dataframe to SQL database\n",
    "if engine!=None:\n",
    "    try:\n",
    "        regis_model_state_e_df.to_sql(table_name_2, # Name of SQL table\n",
    "                        con=engine, # Engine or connection\n",
    "                        if_exists='replace', # Drop the table before inserting new values \n",
    "                        schema=schema_2, # your class schema\n",
    "                        index=False, # Write DataFrame index as a column\n",
    "                        chunksize=5000, # Specify the number of rows in each batch to be written at a time\n",
    "                        method='multi') # Pass multiple values in a single INSERT clause\n",
    "        print(f\"The {table_name_2} table was imported successfully.\")\n",
    "    # Error handling\n",
    "    except (Exception, psycopg2.DatabaseError) as error:\n",
    "        print(error)\n",
    "        engine = None"
   ]
  }
 ],
 "metadata": {
  "kernelspec": {
   "display_name": "nf_base",
   "language": "python",
   "name": "python3"
  },
  "language_info": {
   "codemirror_mode": {
    "name": "ipython",
    "version": 3
   },
   "file_extension": ".py",
   "mimetype": "text/x-python",
   "name": "python",
   "nbconvert_exporter": "python",
   "pygments_lexer": "ipython3",
   "version": "3.9.16"
  },
  "orig_nbformat": 4
 },
 "nbformat": 4,
 "nbformat_minor": 2
}
