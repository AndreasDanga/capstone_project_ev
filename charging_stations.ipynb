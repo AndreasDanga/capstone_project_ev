{
 "cells": [
  {
   "attachments": {},
   "cell_type": "markdown",
   "metadata": {},
   "source": [
    "## Data Cleaning"
   ]
  },
  {
   "attachments": {},
   "cell_type": "markdown",
   "metadata": {},
   "source": [
    "### Approach\n",
    "\n",
    "- Importing and inspecting the data sets.\n",
    "- After that cleaning the data accordingly.\n",
    "- Creating Meta-Data for all the data sets."
   ]
  },
  {
   "attachments": {},
   "cell_type": "markdown",
   "metadata": {},
   "source": [
    "#### Importing Libraries"
   ]
  },
  {
   "cell_type": "code",
   "execution_count": 18,
   "metadata": {},
   "outputs": [],
   "source": [
    "# Importing python libraries\n",
    "import pandas as pd\n",
    "import numpy as np\n",
    "import matplotlib.pyplot as plt\n",
    "import zipfile\n",
    "import seaborn as sns\n",
    "import requests"
   ]
  },
  {
   "attachments": {},
   "cell_type": "markdown",
   "metadata": {},
   "source": [
    "#### Downloading CSV file from web"
   ]
  },
  {
   "cell_type": "code",
   "execution_count": 4,
   "metadata": {},
   "outputs": [],
   "source": [
    "# Defining the variable url with the website_link\n",
    "url = 'https://www.bundesnetzagentur.de/SharedDocs/Downloads/DE/Sachgebiete/Energie/Unternehmen_Institutionen/E_Mobilitaet/Ladesaeulenregister_CSV.csv?__blob=publicationFile&v=44'"
   ]
  },
  {
   "cell_type": "code",
   "execution_count": 10,
   "metadata": {},
   "outputs": [
    {
     "data": {
      "text/plain": [
       "<function pandas.io.parsers.readers.read_csv(filepath_or_buffer: 'FilePath | ReadCsvBuffer[bytes] | ReadCsvBuffer[str]', *, sep: 'str | None | lib.NoDefault' = <no_default>, delimiter: 'str | None | lib.NoDefault' = None, header: \"int | Sequence[int] | None | Literal['infer']\" = 'infer', names: 'Sequence[Hashable] | None | lib.NoDefault' = <no_default>, index_col: 'IndexLabel | Literal[False] | None' = None, usecols=None, squeeze: 'bool | None' = None, prefix: 'str | lib.NoDefault' = <no_default>, mangle_dupe_cols: 'bool' = True, dtype: 'DtypeArg | None' = None, engine: 'CSVEngine | None' = None, converters=None, true_values=None, false_values=None, skipinitialspace: 'bool' = False, skiprows=None, skipfooter: 'int' = 0, nrows: 'int | None' = None, na_values=None, keep_default_na: 'bool' = True, na_filter: 'bool' = True, verbose: 'bool' = False, skip_blank_lines: 'bool' = True, parse_dates=None, infer_datetime_format: 'bool' = False, keep_date_col: 'bool' = False, date_parser=None, dayfirst: 'bool' = False, cache_dates: 'bool' = True, iterator: 'bool' = False, chunksize: 'int | None' = None, compression: 'CompressionOptions' = 'infer', thousands: 'str | None' = None, decimal: 'str' = '.', lineterminator: 'str | None' = None, quotechar: 'str' = '\"', quoting: 'int' = 0, doublequote: 'bool' = True, escapechar: 'str | None' = None, comment: 'str | None' = None, encoding: 'str | None' = None, encoding_errors: 'str | None' = 'strict', dialect: 'str | csv.Dialect | None' = None, error_bad_lines: 'bool | None' = None, warn_bad_lines: 'bool | None' = None, on_bad_lines=None, delim_whitespace: 'bool' = False, low_memory=True, memory_map: 'bool' = False, float_precision: \"Literal['high', 'legacy'] | None\" = None, storage_options: 'StorageOptions' = None) -> 'DataFrame | TextFileReader'>"
      ]
     },
     "execution_count": 10,
     "metadata": {},
     "output_type": "execute_result"
    }
   ],
   "source": [
    "# pd.read_csv"
   ]
  },
  {
   "cell_type": "code",
   "execution_count": 26,
   "metadata": {},
   "outputs": [],
   "source": [
    "# Importing the csv file from the website with the defined 'url' variable\n",
    "# First 10 rows not needed\n",
    "df_charging_stations = pd.read_csv(url, delimiter=';', encoding='iso8859-1', skiprows=10)"
   ]
  },
  {
   "cell_type": "code",
   "execution_count": null,
   "metadata": {},
   "outputs": [],
   "source": [
    "# checking and confirming the status of the df \n",
    "type(df_charging_stations)"
   ]
  },
  {
   "cell_type": "code",
   "execution_count": 28,
   "metadata": {},
   "outputs": [
    {
     "data": {
      "text/html": [
       "<div>\n",
       "<style scoped>\n",
       "    .dataframe tbody tr th:only-of-type {\n",
       "        vertical-align: middle;\n",
       "    }\n",
       "\n",
       "    .dataframe tbody tr th {\n",
       "        vertical-align: top;\n",
       "    }\n",
       "\n",
       "    .dataframe thead th {\n",
       "        text-align: right;\n",
       "    }\n",
       "</style>\n",
       "<table border=\"1\" class=\"dataframe\">\n",
       "  <thead>\n",
       "    <tr style=\"text-align: right;\">\n",
       "      <th></th>\n",
       "      <th>Betreiber</th>\n",
       "      <th>Straße</th>\n",
       "      <th>Hausnummer</th>\n",
       "      <th>Adresszusatz</th>\n",
       "      <th>Postleitzahl</th>\n",
       "      <th>Ort</th>\n",
       "      <th>Bundesland</th>\n",
       "      <th>Kreis/kreisfreie Stadt</th>\n",
       "      <th>Breitengrad</th>\n",
       "      <th>Längengrad</th>\n",
       "      <th>...</th>\n",
       "      <th>Public Key1</th>\n",
       "      <th>Steckertypen2</th>\n",
       "      <th>P2 [kW]</th>\n",
       "      <th>Public Key2</th>\n",
       "      <th>Steckertypen3</th>\n",
       "      <th>P3 [kW]</th>\n",
       "      <th>Public Key3</th>\n",
       "      <th>Steckertypen4</th>\n",
       "      <th>P4 [kW]</th>\n",
       "      <th>Public Key4</th>\n",
       "    </tr>\n",
       "  </thead>\n",
       "  <tbody>\n",
       "    <tr>\n",
       "      <th>0</th>\n",
       "      <td>Albwerk GmbH &amp; Co. KG</td>\n",
       "      <td>Ennabeurer Weg</td>\n",
       "      <td>0</td>\n",
       "      <td>NaN</td>\n",
       "      <td>72535</td>\n",
       "      <td>Heroldstatt</td>\n",
       "      <td>Baden-Württemberg</td>\n",
       "      <td>Landkreis Alb-Donau-Kreis</td>\n",
       "      <td>48,442398</td>\n",
       "      <td>9,659075</td>\n",
       "      <td>...</td>\n",
       "      <td>NaN</td>\n",
       "      <td>AC Steckdose Typ 2</td>\n",
       "      <td>22</td>\n",
       "      <td>NaN</td>\n",
       "      <td>NaN</td>\n",
       "      <td>NaN</td>\n",
       "      <td>NaN</td>\n",
       "      <td>NaN</td>\n",
       "      <td>NaN</td>\n",
       "      <td>NaN</td>\n",
       "    </tr>\n",
       "    <tr>\n",
       "      <th>1</th>\n",
       "      <td>smopi®</td>\n",
       "      <td>Albstraße</td>\n",
       "      <td>14</td>\n",
       "      <td>NaN</td>\n",
       "      <td>72535</td>\n",
       "      <td>Heroldstatt</td>\n",
       "      <td>Baden-Württemberg</td>\n",
       "      <td>Landkreis Alb-Donau-Kreis</td>\n",
       "      <td>48,449353</td>\n",
       "      <td>9,672201</td>\n",
       "      <td>...</td>\n",
       "      <td>NaN</td>\n",
       "      <td>AC Steckdose Typ 2</td>\n",
       "      <td>22</td>\n",
       "      <td>NaN</td>\n",
       "      <td>AC Steckdose Typ 2</td>\n",
       "      <td>22</td>\n",
       "      <td>NaN</td>\n",
       "      <td>AC Steckdose Typ 2</td>\n",
       "      <td>22</td>\n",
       "      <td>NaN</td>\n",
       "    </tr>\n",
       "    <tr>\n",
       "      <th>2</th>\n",
       "      <td>Albwerk GmbH &amp; Co. KG</td>\n",
       "      <td>Parkplatz Campingplatz</td>\n",
       "      <td>0</td>\n",
       "      <td>NaN</td>\n",
       "      <td>72589</td>\n",
       "      <td>Westerheim</td>\n",
       "      <td>Baden-Württemberg</td>\n",
       "      <td>Landkreis Alb-Donau-Kreis</td>\n",
       "      <td>48,5105</td>\n",
       "      <td>9,609</td>\n",
       "      <td>...</td>\n",
       "      <td>NaN</td>\n",
       "      <td>AC Steckdose Typ 2</td>\n",
       "      <td>22</td>\n",
       "      <td>NaN</td>\n",
       "      <td>NaN</td>\n",
       "      <td>NaN</td>\n",
       "      <td>NaN</td>\n",
       "      <td>NaN</td>\n",
       "      <td>NaN</td>\n",
       "      <td>NaN</td>\n",
       "    </tr>\n",
       "    <tr>\n",
       "      <th>3</th>\n",
       "      <td>EnBW mobility+ AG und Co.KG</td>\n",
       "      <td>Hauptstraße</td>\n",
       "      <td>91c</td>\n",
       "      <td>NaN</td>\n",
       "      <td>73340</td>\n",
       "      <td>Amstetten</td>\n",
       "      <td>Baden-Württemberg</td>\n",
       "      <td>Landkreis Alb-Donau-Kreis</td>\n",
       "      <td>48,5785342</td>\n",
       "      <td>9,8748399</td>\n",
       "      <td>...</td>\n",
       "      <td>NaN</td>\n",
       "      <td>DC Kupplung Combo, DC CHAdeMO</td>\n",
       "      <td>50</td>\n",
       "      <td>NaN</td>\n",
       "      <td>NaN</td>\n",
       "      <td>NaN</td>\n",
       "      <td>NaN</td>\n",
       "      <td>NaN</td>\n",
       "      <td>NaN</td>\n",
       "      <td>NaN</td>\n",
       "    </tr>\n",
       "    <tr>\n",
       "      <th>4</th>\n",
       "      <td>SWU Energie GmbH</td>\n",
       "      <td>Sterngasse</td>\n",
       "      <td>6</td>\n",
       "      <td>NaN</td>\n",
       "      <td>88481</td>\n",
       "      <td>Balzheim</td>\n",
       "      <td>Baden-Württemberg</td>\n",
       "      <td>Landkreis Alb-Donau-Kreis</td>\n",
       "      <td>48,179959</td>\n",
       "      <td>10,076977</td>\n",
       "      <td>...</td>\n",
       "      <td>NaN</td>\n",
       "      <td>NaN</td>\n",
       "      <td>NaN</td>\n",
       "      <td>NaN</td>\n",
       "      <td>NaN</td>\n",
       "      <td>NaN</td>\n",
       "      <td>NaN</td>\n",
       "      <td>NaN</td>\n",
       "      <td>NaN</td>\n",
       "      <td>NaN</td>\n",
       "    </tr>\n",
       "  </tbody>\n",
       "</table>\n",
       "<p>5 rows × 26 columns</p>\n",
       "</div>"
      ],
      "text/plain": [
       "                      Betreiber                  Straße Hausnummer  \\\n",
       "0         Albwerk GmbH & Co. KG          Ennabeurer Weg          0   \n",
       "1                       smopi®                Albstraße         14   \n",
       "2         Albwerk GmbH & Co. KG  Parkplatz Campingplatz          0   \n",
       "3  EnBW mobility+ AG und Co.KG              Hauptstraße        91c   \n",
       "4              SWU Energie GmbH              Sterngasse          6   \n",
       "\n",
       "  Adresszusatz  Postleitzahl          Ort         Bundesland  \\\n",
       "0          NaN         72535  Heroldstatt  Baden-Württemberg   \n",
       "1          NaN         72535  Heroldstatt  Baden-Württemberg   \n",
       "2          NaN         72589   Westerheim  Baden-Württemberg   \n",
       "3          NaN         73340    Amstetten  Baden-Württemberg   \n",
       "4          NaN         88481     Balzheim  Baden-Württemberg   \n",
       "\n",
       "      Kreis/kreisfreie Stadt Breitengrad Längengrad  ... Public Key1  \\\n",
       "0  Landkreis Alb-Donau-Kreis   48,442398   9,659075  ...         NaN   \n",
       "1  Landkreis Alb-Donau-Kreis   48,449353   9,672201  ...         NaN   \n",
       "2  Landkreis Alb-Donau-Kreis     48,5105      9,609  ...         NaN   \n",
       "3  Landkreis Alb-Donau-Kreis  48,5785342  9,8748399  ...         NaN   \n",
       "4  Landkreis Alb-Donau-Kreis   48,179959  10,076977  ...         NaN   \n",
       "\n",
       "                   Steckertypen2 P2 [kW]  Public Key2       Steckertypen3  \\\n",
       "0             AC Steckdose Typ 2      22          NaN                 NaN   \n",
       "1             AC Steckdose Typ 2      22          NaN  AC Steckdose Typ 2   \n",
       "2             AC Steckdose Typ 2      22          NaN                 NaN   \n",
       "3  DC Kupplung Combo, DC CHAdeMO      50          NaN                 NaN   \n",
       "4                            NaN     NaN          NaN                 NaN   \n",
       "\n",
       "  P3 [kW] Public Key3       Steckertypen4 P4 [kW] Public Key4  \n",
       "0     NaN         NaN                 NaN     NaN         NaN  \n",
       "1      22         NaN  AC Steckdose Typ 2      22         NaN  \n",
       "2     NaN         NaN                 NaN     NaN         NaN  \n",
       "3     NaN         NaN                 NaN     NaN         NaN  \n",
       "4     NaN         NaN                 NaN     NaN         NaN  \n",
       "\n",
       "[5 rows x 26 columns]"
      ]
     },
     "execution_count": 28,
     "metadata": {},
     "output_type": "execute_result"
    }
   ],
   "source": [
    "# calling the dataframe to check on it's content\n",
    "df_charging_stations.head()"
   ]
  },
  {
   "cell_type": "code",
   "execution_count": 21,
   "metadata": {},
   "outputs": [
    {
     "data": {
      "text/plain": [
       "\"\\n# Download the database\\nr = requests.get(url)\\n\\n# Save database to local file storage\\nwith open(path+zip_file, 'wb') as f:\\n    f.write(r.content)\\n\""
      ]
     },
     "execution_count": 21,
     "metadata": {},
     "output_type": "execute_result"
    }
   ],
   "source": [
    "\"\"\"\n",
    "# Download the database\n",
    "r = requests.get(url)\n",
    "\n",
    "# Save database to local file storage\n",
    "with open(path+zip_file, 'wb') as f:\n",
    "    f.write(r.content)\n",
    "\"\"\""
   ]
  },
  {
   "attachments": {},
   "cell_type": "markdown",
   "metadata": {},
   "source": [
    "#### Saving Dataframe as CSV "
   ]
  },
  {
   "cell_type": "code",
   "execution_count": 19,
   "metadata": {},
   "outputs": [],
   "source": [
    "# Saving the df as a csv file in this Repo on GitHub \n",
    "df_charging_stations.to_csv('charging_stations.csv', index=False)"
   ]
  },
  {
   "attachments": {},
   "cell_type": "markdown",
   "metadata": {},
   "source": [
    "### Simple EDA \"charging stations\""
   ]
  },
  {
   "cell_type": "code",
   "execution_count": 29,
   "metadata": {},
   "outputs": [
    {
     "data": {
      "text/plain": [
       "(40674, 26)"
      ]
     },
     "execution_count": 29,
     "metadata": {},
     "output_type": "execute_result"
    }
   ],
   "source": [
    "# Checking rows and columns\n",
    "df_charging_stations.shape"
   ]
  },
  {
   "cell_type": "code",
   "execution_count": 30,
   "metadata": {},
   "outputs": [
    {
     "name": "stdout",
     "output_type": "stream",
     "text": [
      "<class 'pandas.core.frame.DataFrame'>\n",
      "RangeIndex: 40674 entries, 0 to 40673\n",
      "Data columns (total 26 columns):\n",
      " #   Column                  Non-Null Count  Dtype \n",
      "---  ------                  --------------  ----- \n",
      " 0   Betreiber               40674 non-null  object\n",
      " 1   Straße                  40674 non-null  object\n",
      " 2   Hausnummer              40674 non-null  object\n",
      " 3   Adresszusatz            5761 non-null   object\n",
      " 4   Postleitzahl            40674 non-null  int64 \n",
      " 5   Ort                     40674 non-null  object\n",
      " 6   Bundesland              40674 non-null  object\n",
      " 7   Kreis/kreisfreie Stadt  40674 non-null  object\n",
      " 8   Breitengrad             40674 non-null  object\n",
      " 9   Längengrad              40674 non-null  object\n",
      " 10  Inbetriebnahmedatum     40674 non-null  object\n",
      " 11  Anschlussleistung       40674 non-null  object\n",
      " 12  Art der Ladeeinrichung  40673 non-null  object\n",
      " 13  Anzahl Ladepunkte       40674 non-null  int64 \n",
      " 14  Steckertypen1           40674 non-null  object\n",
      " 15  P1 [kW]                 40674 non-null  object\n",
      " 16  Public Key1             4073 non-null   object\n",
      " 17  Steckertypen2           32918 non-null  object\n",
      " 18  P2 [kW]                 32915 non-null  object\n",
      " 19  Public Key2             3324 non-null   object\n",
      " 20  Steckertypen3           2347 non-null   object\n",
      " 21  P3 [kW]                 2346 non-null   object\n",
      " 22  Public Key3             213 non-null    object\n",
      " 23  Steckertypen4           1257 non-null   object\n",
      " 24  P4 [kW]                 1257 non-null   object\n",
      " 25  Public Key4             159 non-null    object\n",
      "dtypes: int64(2), object(24)\n",
      "memory usage: 8.1+ MB\n"
     ]
    }
   ],
   "source": [
    "# Checking for null values and data types\n",
    "df_charging_stations.info()"
   ]
  },
  {
   "cell_type": "code",
   "execution_count": 31,
   "metadata": {},
   "outputs": [
    {
     "data": {
      "text/html": [
       "<div>\n",
       "<style scoped>\n",
       "    .dataframe tbody tr th:only-of-type {\n",
       "        vertical-align: middle;\n",
       "    }\n",
       "\n",
       "    .dataframe tbody tr th {\n",
       "        vertical-align: top;\n",
       "    }\n",
       "\n",
       "    .dataframe thead th {\n",
       "        text-align: right;\n",
       "    }\n",
       "</style>\n",
       "<table border=\"1\" class=\"dataframe\">\n",
       "  <thead>\n",
       "    <tr style=\"text-align: right;\">\n",
       "      <th></th>\n",
       "      <th>Postleitzahl</th>\n",
       "      <th>Anzahl Ladepunkte</th>\n",
       "    </tr>\n",
       "  </thead>\n",
       "  <tbody>\n",
       "    <tr>\n",
       "      <th>count</th>\n",
       "      <td>40674.000000</td>\n",
       "      <td>40674.000000</td>\n",
       "    </tr>\n",
       "    <tr>\n",
       "      <th>mean</th>\n",
       "      <td>55257.259748</td>\n",
       "      <td>1.900108</td>\n",
       "    </tr>\n",
       "    <tr>\n",
       "      <th>std</th>\n",
       "      <td>27139.402860</td>\n",
       "      <td>0.574907</td>\n",
       "    </tr>\n",
       "    <tr>\n",
       "      <th>min</th>\n",
       "      <td>1067.000000</td>\n",
       "      <td>1.000000</td>\n",
       "    </tr>\n",
       "    <tr>\n",
       "      <th>25%</th>\n",
       "      <td>32469.000000</td>\n",
       "      <td>2.000000</td>\n",
       "    </tr>\n",
       "    <tr>\n",
       "      <th>50%</th>\n",
       "      <td>57336.500000</td>\n",
       "      <td>2.000000</td>\n",
       "    </tr>\n",
       "    <tr>\n",
       "      <th>75%</th>\n",
       "      <td>79780.000000</td>\n",
       "      <td>2.000000</td>\n",
       "    </tr>\n",
       "    <tr>\n",
       "      <th>max</th>\n",
       "      <td>99991.000000</td>\n",
       "      <td>4.000000</td>\n",
       "    </tr>\n",
       "  </tbody>\n",
       "</table>\n",
       "</div>"
      ],
      "text/plain": [
       "       Postleitzahl  Anzahl Ladepunkte\n",
       "count  40674.000000       40674.000000\n",
       "mean   55257.259748           1.900108\n",
       "std    27139.402860           0.574907\n",
       "min     1067.000000           1.000000\n",
       "25%    32469.000000           2.000000\n",
       "50%    57336.500000           2.000000\n",
       "75%    79780.000000           2.000000\n",
       "max    99991.000000           4.000000"
      ]
     },
     "execution_count": 31,
     "metadata": {},
     "output_type": "execute_result"
    }
   ],
   "source": [
    "# Checking the dataframes central tendencies\n",
    "df_charging_stations.describe()"
   ]
  },
  {
   "cell_type": "code",
   "execution_count": 32,
   "metadata": {},
   "outputs": [
    {
     "data": {
      "text/plain": [
       "Index(['Betreiber', 'Straße', 'Hausnummer', 'Adresszusatz', 'Postleitzahl',\n",
       "       'Ort', 'Bundesland', 'Kreis/kreisfreie Stadt', 'Breitengrad',\n",
       "       'Längengrad', 'Inbetriebnahmedatum', 'Anschlussleistung',\n",
       "       'Art der Ladeeinrichung', 'Anzahl Ladepunkte', 'Steckertypen1',\n",
       "       'P1 [kW]', 'Public Key1', 'Steckertypen2', 'P2 [kW]', 'Public Key2',\n",
       "       'Steckertypen3', 'P3 [kW]', 'Public Key3', 'Steckertypen4', 'P4 [kW]',\n",
       "       'Public Key4'],\n",
       "      dtype='object')"
      ]
     },
     "execution_count": 32,
     "metadata": {},
     "output_type": "execute_result"
    }
   ],
   "source": [
    "# Checking for the columns \n",
    "df_charging_stations.columns"
   ]
  },
  {
   "cell_type": "code",
   "execution_count": 33,
   "metadata": {},
   "outputs": [],
   "source": [
    "# Translating column names from German to English\n",
    "# Changing the names in a pythonic way. lower case and replacing ' ' with '_'\n",
    "df_charging_stations.rename(columns={'Betreiber': 'operator',\n",
    "                                     'Straße': 'street',\n",
    "                                     'Hausnummer': 'house_number',\n",
    "                                     'Adresszusatz' : 'address_addition',\n",
    "                                     'Postleitzahl': 'zip_code',\n",
    "                                     'Ort': 'city',\n",
    "                                     'Bundesland': 'federal_state',\n",
    "                                     'Kreis/kreisfreie Stadt': 'county',\n",
    "                                     'Breitengrad': 'latitude',\n",
    "                                     'Längengrad': 'longitude',\n",
    "                                     'Inbetriebnahmedatum': 'commissioning_date',\n",
    "                                     'Anschlussleistung': 'connecting_power',\n",
    "                                     'Art der Ladeeinrichung': 'charging_device_type',\n",
    "                                     'Anzahl Ladepunkte': 'numbers_charging_points',\n",
    "                                     'Steckertypen1': 'plug_types_1',\n",
    "                                     'P1 [kW]': 'p1_kw',\n",
    "                                     'Public Key1': 'public_key1',\n",
    "                                     'Steckertypen2': 'plug_types_2',\n",
    "                                     'P2 [kW]': 'p2_kw',\n",
    "                                     'Public Key2': 'public_key2',\n",
    "                                     'Steckertypen3': 'plug_types_3',\n",
    "                                     'P3 [kW]': 'p3_kw',\n",
    "                                     'Public Key3': 'public_key3',\n",
    "                                     'Steckertypen4': 'plug_types_4',\n",
    "                                     'P4 [kW]': 'p4_kw',\n",
    "                                     'Public Key4': 'public_key4'}, inplace=True)"
   ]
  },
  {
   "cell_type": "code",
   "execution_count": 35,
   "metadata": {},
   "outputs": [
    {
     "data": {
      "text/plain": [
       "Index(['operator', 'street', 'house_number', 'address_addition', 'zip_code',\n",
       "       'city', 'federal_state', 'county', 'latitude', 'longitude',\n",
       "       'commissioning_date', 'connecting_power', 'charging_device_type',\n",
       "       'numbers_charging_points', 'plug_types_1', 'p1_kw', 'public_key1',\n",
       "       'plug_types_2', 'p2_kw', 'public_key2', 'plug_types_3', 'p3_kw',\n",
       "       'public_key3', 'plug_types_4', 'p4_kw', 'public_key4'],\n",
       "      dtype='object')"
      ]
     },
     "execution_count": 35,
     "metadata": {},
     "output_type": "execute_result"
    }
   ],
   "source": [
    "# Checking the new column names\n",
    "df_charging_stations.columns"
   ]
  },
  {
   "cell_type": "code",
   "execution_count": 37,
   "metadata": {},
   "outputs": [],
   "source": [
    "# Dropping the unnecessary columns\n",
    "df_charging_stations.drop(['address_addition', 'public_key1', 'public_key2', 'public_key3', 'public_key4'], axis=1, inplace= True)"
   ]
  },
  {
   "cell_type": "code",
   "execution_count": 46,
   "metadata": {},
   "outputs": [
    {
     "name": "stdout",
     "output_type": "stream",
     "text": [
      "<class 'pandas.core.frame.DataFrame'>\n",
      "RangeIndex: 40674 entries, 0 to 40673\n",
      "Data columns (total 21 columns):\n",
      " #   Column                   Non-Null Count  Dtype \n",
      "---  ------                   --------------  ----- \n",
      " 0   operator                 40674 non-null  object\n",
      " 1   street                   40674 non-null  object\n",
      " 2   house_number             40674 non-null  object\n",
      " 3   zip_code                 40674 non-null  int64 \n",
      " 4   city                     40674 non-null  object\n",
      " 5   federal_state            40674 non-null  object\n",
      " 6   county                   40674 non-null  object\n",
      " 7   latitude                 40674 non-null  object\n",
      " 8   longitude                40674 non-null  object\n",
      " 9   commissioning_date       40674 non-null  object\n",
      " 10  connecting_power         40674 non-null  object\n",
      " 11  charging_device_type     40673 non-null  object\n",
      " 12  numbers_charging_points  40674 non-null  int64 \n",
      " 13  plug_types_1             40674 non-null  object\n",
      " 14  p1_kw                    40674 non-null  object\n",
      " 15  plug_types_2             32918 non-null  object\n",
      " 16  p2_kw                    32915 non-null  object\n",
      " 17  plug_types_3             2347 non-null   object\n",
      " 18  p3_kw                    2346 non-null   object\n",
      " 19  plug_types_4             1257 non-null   object\n",
      " 20  p4_kw                    1257 non-null   object\n",
      "dtypes: int64(2), object(19)\n",
      "memory usage: 6.5+ MB\n"
     ]
    }
   ],
   "source": [
    "# Calling df again to check if columns are updated\n",
    "df_charging_stations.info()"
   ]
  },
  {
   "attachments": {},
   "cell_type": "markdown",
   "metadata": {},
   "source": [
    "#### Meta Data\n",
    "\n",
    "|Variable |Definition  | Key|\n",
    "|--- | --- | ---|\n",
    "|**operator**| Operator of the charging station ||\n",
    "|**street**| Street of the charging station ||\n",
    "|**house_number**| House number ||\n",
    "|**zip_code**| Zip code ||\n",
    "|**city**| City ||\n",
    "|**federal_state**| Federal state ||\n",
    "|**county**| County and independent city ||\n",
    "|**latitude**| Coordinates of charging station ||\n",
    "|**longitude**| Coordinates of charging station ||\n",
    "|**commissioning_date**| Starting date of operation(Jan 2017 - Jan2023) | 'DD'/'MM'/'YY' |\n",
    "|**connecting_power**| Power of charging station | Unit = kW |\n",
    "|**charging_device_type**| Normal/ fast charging device ||\n",
    "|**numbers_charging_points**| Number of charging points with varied numbers of connectors(\"Ladesäule\") | 1, 2, 3, 4 |\n",
    "|**plug_types_1**| Type of connectors |  |\n",
    "|**p1_kw**| Power outage of first charging point | Unit = kW |\n",
    "|**plug_types_2**| Type of connectors |  |\n",
    "|**p2_kw**| Power outage of second charging point | Unit = kW |\n",
    "|**plug_types_3**| Type of connectors |  |\n",
    "|**p3_kw**| Power outage of third charging point | Unit = kW |\n",
    "|**plug_types_4**| Type of connectors |  |\n",
    "|**p4_kw**| Power outage of fourth charging point | Unit = kW |"
   ]
  },
  {
   "attachments": {},
   "cell_type": "markdown",
   "metadata": {},
   "source": [
    "#### Detailed EDA"
   ]
  },
  {
   "cell_type": "code",
   "execution_count": null,
   "metadata": {},
   "outputs": [],
   "source": [
    "# Dealing with null values."
   ]
  },
  {
   "cell_type": "code",
   "execution_count": 45,
   "metadata": {},
   "outputs": [
    {
     "data": {
      "text/plain": [
       "\"\\ndf_2 = df_charging_stations.explode('plug_types_1')\\nunique = list(df_2['plug_types_1'].unique())\\nprint(unique)\\n\""
      ]
     },
     "execution_count": 45,
     "metadata": {},
     "output_type": "execute_result"
    }
   ],
   "source": [
    "\"\"\"\n",
    "df_2 = df_charging_stations.explode('plug_types_1')\n",
    "unique = list(df_2['plug_types_1'].unique())\n",
    "print(unique)\n",
    "\"\"\""
   ]
  }
 ],
 "metadata": {
  "kernelspec": {
   "display_name": "nf_base_clone",
   "language": "python",
   "name": "python3"
  },
  "language_info": {
   "codemirror_mode": {
    "name": "ipython",
    "version": 3
   },
   "file_extension": ".py",
   "mimetype": "text/x-python",
   "name": "python",
   "nbconvert_exporter": "python",
   "pygments_lexer": "ipython3",
   "version": "3.9.16"
  },
  "orig_nbformat": 4
 },
 "nbformat": 4,
 "nbformat_minor": 2
}
